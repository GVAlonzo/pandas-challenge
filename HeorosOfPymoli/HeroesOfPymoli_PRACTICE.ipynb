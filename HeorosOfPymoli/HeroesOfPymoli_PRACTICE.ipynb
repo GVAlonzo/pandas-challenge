{
 "cells": [
  {
   "cell_type": "code",
   "execution_count": 74,
   "id": "806c8844",
   "metadata": {
    "collapsed": true
   },
   "outputs": [
    {
     "data": {
      "text/html": [
       "<div>\n",
       "<style scoped>\n",
       "    .dataframe tbody tr th:only-of-type {\n",
       "        vertical-align: middle;\n",
       "    }\n",
       "\n",
       "    .dataframe tbody tr th {\n",
       "        vertical-align: top;\n",
       "    }\n",
       "\n",
       "    .dataframe thead th {\n",
       "        text-align: right;\n",
       "    }\n",
       "</style>\n",
       "<table border=\"1\" class=\"dataframe\">\n",
       "  <thead>\n",
       "    <tr style=\"text-align: right;\">\n",
       "      <th></th>\n",
       "      <th>Purchase ID</th>\n",
       "      <th>SN</th>\n",
       "      <th>Age</th>\n",
       "      <th>Gender</th>\n",
       "      <th>Item ID</th>\n",
       "      <th>Item Name</th>\n",
       "      <th>Price</th>\n",
       "    </tr>\n",
       "  </thead>\n",
       "  <tbody>\n",
       "    <tr>\n",
       "      <th>0</th>\n",
       "      <td>0</td>\n",
       "      <td>Lisim78</td>\n",
       "      <td>20</td>\n",
       "      <td>Male</td>\n",
       "      <td>108</td>\n",
       "      <td>Extraction, Quickblade Of Trembling Hands</td>\n",
       "      <td>3.53</td>\n",
       "    </tr>\n",
       "    <tr>\n",
       "      <th>1</th>\n",
       "      <td>1</td>\n",
       "      <td>Lisovynya38</td>\n",
       "      <td>40</td>\n",
       "      <td>Male</td>\n",
       "      <td>143</td>\n",
       "      <td>Frenzied Scimitar</td>\n",
       "      <td>1.56</td>\n",
       "    </tr>\n",
       "    <tr>\n",
       "      <th>2</th>\n",
       "      <td>2</td>\n",
       "      <td>Ithergue48</td>\n",
       "      <td>24</td>\n",
       "      <td>Male</td>\n",
       "      <td>92</td>\n",
       "      <td>Final Critic</td>\n",
       "      <td>4.88</td>\n",
       "    </tr>\n",
       "    <tr>\n",
       "      <th>3</th>\n",
       "      <td>3</td>\n",
       "      <td>Chamassasya86</td>\n",
       "      <td>24</td>\n",
       "      <td>Male</td>\n",
       "      <td>100</td>\n",
       "      <td>Blindscythe</td>\n",
       "      <td>3.27</td>\n",
       "    </tr>\n",
       "    <tr>\n",
       "      <th>4</th>\n",
       "      <td>4</td>\n",
       "      <td>Iskosia90</td>\n",
       "      <td>23</td>\n",
       "      <td>Male</td>\n",
       "      <td>131</td>\n",
       "      <td>Fury</td>\n",
       "      <td>1.44</td>\n",
       "    </tr>\n",
       "  </tbody>\n",
       "</table>\n",
       "</div>"
      ],
      "text/plain": [
       "   Purchase ID             SN  Age Gender  Item ID  \\\n",
       "0            0        Lisim78   20   Male      108   \n",
       "1            1    Lisovynya38   40   Male      143   \n",
       "2            2     Ithergue48   24   Male       92   \n",
       "3            3  Chamassasya86   24   Male      100   \n",
       "4            4      Iskosia90   23   Male      131   \n",
       "\n",
       "                                   Item Name  Price  \n",
       "0  Extraction, Quickblade Of Trembling Hands   3.53  \n",
       "1                          Frenzied Scimitar   1.56  \n",
       "2                               Final Critic   4.88  \n",
       "3                                Blindscythe   3.27  \n",
       "4                                       Fury   1.44  "
      ]
     },
     "execution_count": 74,
     "metadata": {},
     "output_type": "execute_result"
    }
   ],
   "source": [
    "#*****************************************************************************\n",
    "#**\n",
    "#**  Pandas Homework: Pandas, Pandas, Pandas\n",
    "#**\n",
    "#**   Heroes of Pymoli\n",
    "#**\n",
    "#**     Author: George Alonzo\n",
    "#**   Due Date: Sept 25, 2021\n",
    "#**\n",
    "#*****************************************************************************\n",
    "\n",
    "import pandas as pd\n",
    "\n",
    "purchase_file = \"Resources/purchase_data.csv\"\n",
    "\n",
    "purchase_file_df = pd.read_csv(purchase_file)\n",
    "#purchase_file_df[\"Price\"] = purchase_file_df[\"Price\"].map(\"${:.2f}\".format)\n",
    "purchase_file_df.head()"
   ]
  },
  {
   "cell_type": "code",
   "execution_count": 83,
   "id": "bc15f5e4",
   "metadata": {},
   "outputs": [
    {
     "name": "stdout",
     "output_type": "stream",
     "text": [
      "PLAYER COUNT\n"
     ]
    },
    {
     "data": {
      "text/plain": [
       "780"
      ]
     },
     "execution_count": 83,
     "metadata": {},
     "output_type": "execute_result"
    }
   ],
   "source": [
    "# PLAYER COUNT\n",
    "print(\"PLAYER COUNT\")\n",
    "player_num = purchase_file_df[\"SN\"].count()\n",
    "player_num\n",
    "#player_num_unique = len(purchase_file_df[\"SN\"].unique())\n",
    "#print(f\"Total Number of Players:\" ,player_num, \"/ Unique Screen Names:\", player_num_unique)"
   ]
  },
  {
   "cell_type": "code",
   "execution_count": 77,
   "id": "359a38eb",
   "metadata": {},
   "outputs": [
    {
     "name": "stdout",
     "output_type": "stream",
     "text": [
      "PURCHASING ANALYSIS (TOTAL)\n",
      "Number of Unique Items: 179\n",
      "The average price paid is 3.050987179487176\n",
      "Total Number of Purchases: 780\n",
      "Total Revenue: 2379.77\n"
     ]
    }
   ],
   "source": [
    "# PURCHASING ANALYSIS (TOTAL)\n",
    "print(\"PURCHASING ANALYSIS (TOTAL)\")\n",
    "item_unique = len(purchase_file_df[\"Item Name\"].unique())\n",
    "print(\"Number of Unique Items:\" ,item_unique)\n",
    "\n",
    "avg_price = purchase_file_df[\"Price\"].mean()\n",
    "print(\"The average price paid is\", avg_price)\n",
    "\n",
    "# HOLD FOR AVERAGE PURCHASE PRICE\n",
    "\n",
    "purchases_num = purchase_file_df[\"Purchase ID\"].count()\n",
    "print(\"Total Number of Purchases:\", purchases_num)\n",
    "\n",
    "tot_revenue = purchase_file_df[\"Price\"].sum()\n",
    "print(\"Total Revenue:\", tot_revenue)"
   ]
  },
  {
   "cell_type": "code",
   "execution_count": 80,
   "id": "ab1892bf",
   "metadata": {},
   "outputs": [
    {
     "name": "stdout",
     "output_type": "stream",
     "text": [
      "GENDER DEMOGRAPHICS\n",
      "Male                     652\n",
      "Female                   113\n",
      "Other / Non-Disclosed     15\n",
      "Name: Gender, dtype: int64\n"
     ]
    }
   ],
   "source": [
    "# GENDER DEMOGRAPHICS\n",
    "print(\"GENDER DEMOGRAPHICS\")\n",
    "gender_counts = purchase_file_df[\"Gender\"].value_counts()\n",
    "gender_pcts = purchase_file_df[\"Gender\"].value_counts() / \n",
    "\"print(gender_counts)"
   ]
  },
  {
   "cell_type": "code",
   "execution_count": null,
   "id": "a3b3e09c",
   "metadata": {},
   "outputs": [],
   "source": [
    "# PURCHASING ANALYSIS (GENDER)\n",
    "print(\"PURCHASING ANALYSIS (GENDER)\")"
   ]
  },
  {
   "cell_type": "code",
   "execution_count": null,
   "id": "d5e89ee8",
   "metadata": {},
   "outputs": [],
   "source": [
    "# AGE DEMOGRAPHICS\n",
    "print(\"AGE DEMOGRAPHICS\")"
   ]
  },
  {
   "cell_type": "code",
   "execution_count": null,
   "id": "81e4ea6f",
   "metadata": {},
   "outputs": [],
   "source": [
    "# PURCHASING ANALYSIS (AGE)\n",
    "print(\"PURCHASING ANALYSIS (AGE)\")"
   ]
  },
  {
   "cell_type": "code",
   "execution_count": null,
   "id": "629dbe07",
   "metadata": {},
   "outputs": [],
   "source": [
    "# TOP SPENDERS\n",
    "print(\"TOP SPENDERS\")"
   ]
  },
  {
   "cell_type": "code",
   "execution_count": null,
   "id": "a666775b",
   "metadata": {},
   "outputs": [],
   "source": [
    "# MOST POPULAR ITEMS\n",
    "print(\"MOST POPULAR ITEMS\")"
   ]
  },
  {
   "cell_type": "code",
   "execution_count": null,
   "id": "6263bbeb",
   "metadata": {},
   "outputs": [],
   "source": [
    "# MOST PROFITABLE ITEMS\n",
    "print(\"MOST PROFITABLE ITEMS\")"
   ]
  },
  {
   "cell_type": "code",
   "execution_count": null,
   "id": "dbe4dca6",
   "metadata": {},
   "outputs": [],
   "source": []
  }
 ],
 "metadata": {
  "kernelspec": {
   "display_name": "Python 3",
   "language": "python",
   "name": "python3"
  },
  "language_info": {
   "codemirror_mode": {
    "name": "ipython",
    "version": 3
   },
   "file_extension": ".py",
   "mimetype": "text/x-python",
   "name": "python",
   "nbconvert_exporter": "python",
   "pygments_lexer": "ipython3",
   "version": "3.8.8"
  }
 },
 "nbformat": 4,
 "nbformat_minor": 5
}
