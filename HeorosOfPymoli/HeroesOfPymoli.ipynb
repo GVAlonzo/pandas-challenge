{
 "cells": [
  {
   "cell_type": "code",
   "execution_count": 97,
   "id": "806c8844",
   "metadata": {},
   "outputs": [],
   "source": [
    "#*****************************************************************************\n",
    "#**\n",
    "#**  Pandas Homework: Pandas, Pandas, Pandas\n",
    "#**\n",
    "#**   Heroes of Pymoli\n",
    "#**\n",
    "#**     Author: George Alonzo\n",
    "#**   Due Date: Sept 25, 2021\n",
    "#**\n",
    "#*****************************************************************************\n",
    "\n",
    "import pandas as pd\n",
    "import numpy as np\n",
    "\n",
    "purchase_file = \"Resources/purchase_data.csv\"\n",
    "purchase_file_df = pd.read_csv(purchase_file)"
   ]
  },
  {
   "cell_type": "code",
   "execution_count": 98,
   "id": "0285b6fd",
   "metadata": {},
   "outputs": [
    {
     "name": "stdout",
     "output_type": "stream",
     "text": [
      "PLAYER COUNT\n"
     ]
    },
    {
     "data": {
      "text/html": [
       "<style  type=\"text/css\" >\n",
       "#T_52a86_row0_col0{\n",
       "            text-align:  left;\n",
       "        }</style><table id=\"T_52a86_\" ><thead>    <tr>        <th class=\"blank level0\" ></th>        <th class=\"col_heading level0 col0\" >Total Players (Unique)</th>    </tr></thead><tbody>\n",
       "                <tr>\n",
       "                        <th id=\"T_52a86_level0_row0\" class=\"row_heading level0 row0\" >0</th>\n",
       "                        <td id=\"T_52a86_row0_col0\" class=\"data row0 col0\" >576</td>\n",
       "            </tr>\n",
       "    </tbody></table>"
      ],
      "text/plain": [
       "<pandas.io.formats.style.Styler at 0x235d30640d0>"
      ]
     },
     "execution_count": 98,
     "metadata": {},
     "output_type": "execute_result"
    }
   ],
   "source": [
    "# PLAYER COUNT\n",
    "print(\"PLAYER COUNT\")\n",
    "\n",
    "player_num_unique = len(purchase_file_df[\"SN\"].unique())\n",
    "# Add to a dataframe for better display\n",
    "player_count_df = pd.DataFrame({\"Total Players (Unique)\": [player_num_unique]})\n",
    "player_count_df.style.set_properties(**{'text-align': 'left'})"
   ]
  },
  {
   "cell_type": "code",
   "execution_count": 99,
   "id": "317fe817",
   "metadata": {},
   "outputs": [
    {
     "name": "stdout",
     "output_type": "stream",
     "text": [
      "*** THIS IS OK *** PURCHASING ANALYSIS (TOTAL)\n"
     ]
    },
    {
     "data": {
      "text/html": [
       "<style  type=\"text/css\" >\n",
       "#T_623ac_row0_col0,#T_623ac_row0_col1,#T_623ac_row0_col2,#T_623ac_row0_col3{\n",
       "            text-align:  left;\n",
       "        }</style><table id=\"T_623ac_\" ><thead>    <tr>        <th class=\"blank level0\" ></th>        <th class=\"col_heading level0 col0\" >Number of Unique Items</th>        <th class=\"col_heading level0 col1\" >Average Price</th>        <th class=\"col_heading level0 col2\" >Number of Purchases</th>        <th class=\"col_heading level0 col3\" >Total Revenue</th>    </tr></thead><tbody>\n",
       "                <tr>\n",
       "                        <th id=\"T_623ac_level0_row0\" class=\"row_heading level0 row0\" >0</th>\n",
       "                        <td id=\"T_623ac_row0_col0\" class=\"data row0 col0\" >179</td>\n",
       "                        <td id=\"T_623ac_row0_col1\" class=\"data row0 col1\" >$3.05</td>\n",
       "                        <td id=\"T_623ac_row0_col2\" class=\"data row0 col2\" >780</td>\n",
       "                        <td id=\"T_623ac_row0_col3\" class=\"data row0 col3\" >$2,379.77</td>\n",
       "            </tr>\n",
       "    </tbody></table>"
      ],
      "text/plain": [
       "<pandas.io.formats.style.Styler at 0x235d3218f10>"
      ]
     },
     "execution_count": 99,
     "metadata": {},
     "output_type": "execute_result"
    }
   ],
   "source": [
    "# PURCHASING ANALYSIS (TOTAL)\n",
    "print(\"*** THIS IS OK *** PURCHASING ANALYSIS (TOTAL)\")\n",
    "\n",
    "item_unique = len(purchase_file_df[\"Item Name\"].unique())\n",
    "avg_price = purchase_file_df[\"Price\"].mean()\n",
    "purchases_num = purchase_file_df[\"Purchase ID\"].count()\n",
    "tot_revenue = purchase_file_df[\"Price\"].sum()\n",
    "\n",
    "# Add to a dataframe for better display\n",
    "purchasing_analysis_df = pd.DataFrame({\"Number of Unique Items\": [item_unique], \"Average Price\": [avg_price],\n",
    "                                       \"Number of Purchases\": [purchases_num], \"Total Revenue\": [tot_revenue]})\n",
    "\n",
    "purchasing_analysis_df[\"Average Price\"] = purchasing_analysis_df[\"Average Price\"].map(\"${:.2f}\".format)\n",
    "purchasing_analysis_df[\"Total Revenue\"] = purchasing_analysis_df[\"Total Revenue\"].map(\"${:,.2f}\".format)\n",
    "purchasing_analysis_df.style.set_properties(**{'text-align': 'left'})"
   ]
  },
  {
   "cell_type": "code",
   "execution_count": 102,
   "id": "9d92fbe4",
   "metadata": {},
   "outputs": [
    {
     "name": "stdout",
     "output_type": "stream",
     "text": [
      "GENDER DEMOGRAPHICS\n"
     ]
    },
    {
     "data": {
      "text/html": [
       "<style  type=\"text/css\" >\n",
       "#T_aa385_row0_col0,#T_aa385_row0_col1,#T_aa385_row1_col0,#T_aa385_row1_col1,#T_aa385_row2_col0,#T_aa385_row2_col1{\n",
       "            text-align:  left;\n",
       "        }</style><table id=\"T_aa385_\" ><thead>    <tr>        <th class=\"blank level0\" ></th>        <th class=\"col_heading level0 col0\" >Total Count</th>        <th class=\"col_heading level0 col1\" >Percentage</th>    </tr></thead><tbody>\n",
       "                <tr>\n",
       "                        <th id=\"T_aa385_level0_row0\" class=\"row_heading level0 row0\" >Male</th>\n",
       "                        <td id=\"T_aa385_row0_col0\" class=\"data row0 col0\" >484</td>\n",
       "                        <td id=\"T_aa385_row0_col1\" class=\"data row0 col1\" >84.03%</td>\n",
       "            </tr>\n",
       "            <tr>\n",
       "                        <th id=\"T_aa385_level0_row1\" class=\"row_heading level0 row1\" >Female</th>\n",
       "                        <td id=\"T_aa385_row1_col0\" class=\"data row1 col0\" >81</td>\n",
       "                        <td id=\"T_aa385_row1_col1\" class=\"data row1 col1\" >14.06%</td>\n",
       "            </tr>\n",
       "            <tr>\n",
       "                        <th id=\"T_aa385_level0_row2\" class=\"row_heading level0 row2\" >Other / Non-Disclosed</th>\n",
       "                        <td id=\"T_aa385_row2_col0\" class=\"data row2 col0\" >11</td>\n",
       "                        <td id=\"T_aa385_row2_col1\" class=\"data row2 col1\" >1.91%</td>\n",
       "            </tr>\n",
       "    </tbody></table>"
      ],
      "text/plain": [
       "<pandas.io.formats.style.Styler at 0x235d3205eb0>"
      ]
     },
     "execution_count": 102,
     "metadata": {},
     "output_type": "execute_result"
    }
   ],
   "source": [
    "# GENDER DEMOGRAPHICS\n",
    "print(\"GENDER DEMOGRAPHICS\")\n",
    "\n",
    "#Create new dataframe with distinct Screen Names for demographics\n",
    "gender_distinct_df = purchase_file_df[[\"Gender\",\"SN\"]].drop_duplicates()\n",
    "\n",
    "distinct_tot = gender_distinct_df[\"SN\"].count()\n",
    "gender_counts = gender_distinct_df[\"Gender\"].value_counts()\n",
    "gender_pcts = (gender_distinct_df[\"Gender\"].value_counts() / distinct_tot) *100\n",
    "\n",
    "# Add to a dataframe for better display\n",
    "gender_demo_df = pd.DataFrame({\"Total Count\": gender_counts, \"Percentage\": gender_pcts})\n",
    "\n",
    "gender_demo_df[\"Percentage\"] = gender_demo_df[\"Percentage\"].map(\"{:.2f}%\".format)\n",
    "gender_demo_df.style.set_properties(**{'text-align': 'left'})"
   ]
  },
  {
   "cell_type": "code",
   "execution_count": 101,
   "id": "db17bc7d",
   "metadata": {},
   "outputs": [
    {
     "name": "stdout",
     "output_type": "stream",
     "text": [
      "PURCHASING ANALYSIS (GENDER)\n"
     ]
    },
    {
     "data": {
      "text/html": [
       "<style  type=\"text/css\" >\n",
       "#T_fbaf8_row0_col0,#T_fbaf8_row0_col1,#T_fbaf8_row0_col2,#T_fbaf8_row0_col3,#T_fbaf8_row1_col0,#T_fbaf8_row1_col1,#T_fbaf8_row1_col2,#T_fbaf8_row1_col3,#T_fbaf8_row2_col0,#T_fbaf8_row2_col1,#T_fbaf8_row2_col2,#T_fbaf8_row2_col3{\n",
       "            text-align:  left;\n",
       "        }</style><table id=\"T_fbaf8_\" ><thead>    <tr>        <th class=\"blank level0\" ></th>        <th class=\"col_heading level0 col0\" >Purchase Count</th>        <th class=\"col_heading level0 col1\" >Average Purchase Price</th>        <th class=\"col_heading level0 col2\" >Total Purchase Price</th>        <th class=\"col_heading level0 col3\" >Avg Total Purchase Price</th>    </tr>    <tr>        <th class=\"index_name level0\" >Gender</th>        <th class=\"blank\" ></th>        <th class=\"blank\" ></th>        <th class=\"blank\" ></th>        <th class=\"blank\" ></th>    </tr></thead><tbody>\n",
       "                <tr>\n",
       "                        <th id=\"T_fbaf8_level0_row0\" class=\"row_heading level0 row0\" >Female</th>\n",
       "                        <td id=\"T_fbaf8_row0_col0\" class=\"data row0 col0\" >113</td>\n",
       "                        <td id=\"T_fbaf8_row0_col1\" class=\"data row0 col1\" >$3.20</td>\n",
       "                        <td id=\"T_fbaf8_row0_col2\" class=\"data row0 col2\" >$361.94</td>\n",
       "                        <td id=\"T_fbaf8_row0_col3\" class=\"data row0 col3\" >$4.47</td>\n",
       "            </tr>\n",
       "            <tr>\n",
       "                        <th id=\"T_fbaf8_level0_row1\" class=\"row_heading level0 row1\" >Male</th>\n",
       "                        <td id=\"T_fbaf8_row1_col0\" class=\"data row1 col0\" >652</td>\n",
       "                        <td id=\"T_fbaf8_row1_col1\" class=\"data row1 col1\" >$3.02</td>\n",
       "                        <td id=\"T_fbaf8_row1_col2\" class=\"data row1 col2\" >$1,967.64</td>\n",
       "                        <td id=\"T_fbaf8_row1_col3\" class=\"data row1 col3\" >$4.07</td>\n",
       "            </tr>\n",
       "            <tr>\n",
       "                        <th id=\"T_fbaf8_level0_row2\" class=\"row_heading level0 row2\" >Other / Non-Disclosed</th>\n",
       "                        <td id=\"T_fbaf8_row2_col0\" class=\"data row2 col0\" >15</td>\n",
       "                        <td id=\"T_fbaf8_row2_col1\" class=\"data row2 col1\" >$3.35</td>\n",
       "                        <td id=\"T_fbaf8_row2_col2\" class=\"data row2 col2\" >$50.19</td>\n",
       "                        <td id=\"T_fbaf8_row2_col3\" class=\"data row2 col3\" >$4.56</td>\n",
       "            </tr>\n",
       "    </tbody></table>"
      ],
      "text/plain": [
       "<pandas.io.formats.style.Styler at 0x235d2db3640>"
      ]
     },
     "execution_count": 101,
     "metadata": {},
     "output_type": "execute_result"
    }
   ],
   "source": [
    "# PURCHASING ANALYSIS (GENDER)\n",
    "print(\"PURCHASING ANALYSIS (GENDER)\")\n",
    "\n",
    "purchases_df = purchase_file_df[[\"Gender\",\"Price\"]]\n",
    "purchases_df.head()\n",
    "\n",
    "purchases_group = purchases_df.groupby([\"Gender\"]).count()\n",
    "purchases_group.columns = [\"Purchase Count\"]\n",
    "purchases_group[\"Average Purchase Price\"] = purchases_df.groupby([\"Gender\"]).mean()\n",
    "purchases_group[\"Total Purchase Price\"] = purchases_df.groupby([\"Gender\"]).sum()\n",
    "purchases_group[\"Avg Total Purchase Price\"] = purchases_group[\"Total Purchase Price\"] / gender_counts\n",
    "\n",
    "purchases_group[\"Average Purchase Price\"] = purchases_group[\"Average Purchase Price\"].map(\"${:,.2f}\".format)\n",
    "purchases_group[\"Total Purchase Price\"] = purchases_group[\"Total Purchase Price\"].map(\"${:,.2f}\".format)\n",
    "purchases_group[\"Avg Total Purchase Price\"] = purchases_group[\"Avg Total Purchase Price\"].map(\"${:,.2f}\".format)\n",
    "purchases_group.head().style.set_properties(**{'text-align': 'left'})"
   ]
  },
  {
   "cell_type": "code",
   "execution_count": 103,
   "id": "104c4961",
   "metadata": {},
   "outputs": [
    {
     "name": "stdout",
     "output_type": "stream",
     "text": [
      "AGE DEMOGRAPHICS\n"
     ]
    },
    {
     "data": {
      "text/html": [
       "<style  type=\"text/css\" >\n",
       "#T_eb8c6_row0_col0,#T_eb8c6_row0_col1,#T_eb8c6_row1_col0,#T_eb8c6_row1_col1,#T_eb8c6_row2_col0,#T_eb8c6_row2_col1,#T_eb8c6_row3_col0,#T_eb8c6_row3_col1,#T_eb8c6_row4_col0,#T_eb8c6_row4_col1,#T_eb8c6_row5_col0,#T_eb8c6_row5_col1,#T_eb8c6_row6_col0,#T_eb8c6_row6_col1,#T_eb8c6_row7_col0,#T_eb8c6_row7_col1{\n",
       "            text-align:  left;\n",
       "        }</style><table id=\"T_eb8c6_\" ><thead>    <tr>        <th class=\"blank level0\" ></th>        <th class=\"col_heading level0 col0\" >Total Count</th>        <th class=\"col_heading level0 col1\" >Percentage of Players</th>    </tr>    <tr>        <th class=\"index_name level0\" >Age Group</th>        <th class=\"blank\" ></th>        <th class=\"blank\" ></th>    </tr></thead><tbody>\n",
       "                <tr>\n",
       "                        <th id=\"T_eb8c6_level0_row0\" class=\"row_heading level0 row0\" ><10</th>\n",
       "                        <td id=\"T_eb8c6_row0_col0\" class=\"data row0 col0\" >17</td>\n",
       "                        <td id=\"T_eb8c6_row0_col1\" class=\"data row0 col1\" >2.95%</td>\n",
       "            </tr>\n",
       "            <tr>\n",
       "                        <th id=\"T_eb8c6_level0_row1\" class=\"row_heading level0 row1\" >10-14</th>\n",
       "                        <td id=\"T_eb8c6_row1_col0\" class=\"data row1 col0\" >22</td>\n",
       "                        <td id=\"T_eb8c6_row1_col1\" class=\"data row1 col1\" >3.82%</td>\n",
       "            </tr>\n",
       "            <tr>\n",
       "                        <th id=\"T_eb8c6_level0_row2\" class=\"row_heading level0 row2\" >15-19</th>\n",
       "                        <td id=\"T_eb8c6_row2_col0\" class=\"data row2 col0\" >107</td>\n",
       "                        <td id=\"T_eb8c6_row2_col1\" class=\"data row2 col1\" >18.58%</td>\n",
       "            </tr>\n",
       "            <tr>\n",
       "                        <th id=\"T_eb8c6_level0_row3\" class=\"row_heading level0 row3\" >20-24</th>\n",
       "                        <td id=\"T_eb8c6_row3_col0\" class=\"data row3 col0\" >258</td>\n",
       "                        <td id=\"T_eb8c6_row3_col1\" class=\"data row3 col1\" >44.79%</td>\n",
       "            </tr>\n",
       "            <tr>\n",
       "                        <th id=\"T_eb8c6_level0_row4\" class=\"row_heading level0 row4\" >25-29</th>\n",
       "                        <td id=\"T_eb8c6_row4_col0\" class=\"data row4 col0\" >77</td>\n",
       "                        <td id=\"T_eb8c6_row4_col1\" class=\"data row4 col1\" >13.37%</td>\n",
       "            </tr>\n",
       "            <tr>\n",
       "                        <th id=\"T_eb8c6_level0_row5\" class=\"row_heading level0 row5\" >30-34</th>\n",
       "                        <td id=\"T_eb8c6_row5_col0\" class=\"data row5 col0\" >52</td>\n",
       "                        <td id=\"T_eb8c6_row5_col1\" class=\"data row5 col1\" >9.03%</td>\n",
       "            </tr>\n",
       "            <tr>\n",
       "                        <th id=\"T_eb8c6_level0_row6\" class=\"row_heading level0 row6\" >35-39</th>\n",
       "                        <td id=\"T_eb8c6_row6_col0\" class=\"data row6 col0\" >31</td>\n",
       "                        <td id=\"T_eb8c6_row6_col1\" class=\"data row6 col1\" >5.38%</td>\n",
       "            </tr>\n",
       "            <tr>\n",
       "                        <th id=\"T_eb8c6_level0_row7\" class=\"row_heading level0 row7\" >40+</th>\n",
       "                        <td id=\"T_eb8c6_row7_col0\" class=\"data row7 col0\" >12</td>\n",
       "                        <td id=\"T_eb8c6_row7_col1\" class=\"data row7 col1\" >2.08%</td>\n",
       "            </tr>\n",
       "    </tbody></table>"
      ],
      "text/plain": [
       "<pandas.io.formats.style.Styler at 0x235d2d259d0>"
      ]
     },
     "execution_count": 103,
     "metadata": {},
     "output_type": "execute_result"
    }
   ],
   "source": [
    "# AGE DEMOGRAPHICS\n",
    "print(\"AGE DEMOGRAPHICS\")\n",
    "\n",
    "age_demo_df = purchase_file_df[[\"SN\",\"Age\"]].drop_duplicates()\n",
    "del age_demo_df[\"SN\"]\n",
    "\n",
    "age_bins = [0,9,14,19,24,29,34,39,999]\n",
    "age_groups =[\"<10\",\"10-14\",\"15-19\",\"20-24\",\"25-29\",\"30-34\",\"35-39\",\"40+\"]\n",
    "age_demo_df[\"Age Group\"] = pd.cut(age_demo_df[\"Age\"], age_bins, labels=age_groups, include_lowest=True)\n",
    "\n",
    "age_group = age_demo_df.groupby(\"Age Group\").count()\n",
    "age_group.columns = [\"Total Count\"]\n",
    "age_group[\"Percentage of Players\"] = (age_group[\"Total Count\"] / player_num_unique) *100\n",
    "\n",
    "age_group[\"Percentage of Players\"] = age_group[\"Percentage of Players\"].map(\"{:.2f}%\".format)\n",
    "age_group.style.set_properties(**{'text-align': 'left'})"
   ]
  },
  {
   "cell_type": "code",
   "execution_count": 91,
   "id": "48fcac46",
   "metadata": {
    "scrolled": true
   },
   "outputs": [
    {
     "name": "stdout",
     "output_type": "stream",
     "text": [
      "*** IN PROGRESS *** PURCHASING ANALYSIS (AGE)\n"
     ]
    },
    {
     "data": {
      "text/html": [
       "<div>\n",
       "<style scoped>\n",
       "    .dataframe tbody tr th:only-of-type {\n",
       "        vertical-align: middle;\n",
       "    }\n",
       "\n",
       "    .dataframe tbody tr th {\n",
       "        vertical-align: top;\n",
       "    }\n",
       "\n",
       "    .dataframe thead th {\n",
       "        text-align: right;\n",
       "    }\n",
       "</style>\n",
       "<table border=\"1\" class=\"dataframe\">\n",
       "  <thead>\n",
       "    <tr style=\"text-align: right;\">\n",
       "      <th></th>\n",
       "      <th>SN</th>\n",
       "    </tr>\n",
       "    <tr>\n",
       "      <th>Age Ranges</th>\n",
       "      <th></th>\n",
       "    </tr>\n",
       "  </thead>\n",
       "  <tbody>\n",
       "    <tr>\n",
       "      <th>&lt;10</th>\n",
       "      <td>17</td>\n",
       "    </tr>\n",
       "    <tr>\n",
       "      <th>10-14</th>\n",
       "      <td>22</td>\n",
       "    </tr>\n",
       "    <tr>\n",
       "      <th>15-19</th>\n",
       "      <td>107</td>\n",
       "    </tr>\n",
       "    <tr>\n",
       "      <th>20-24</th>\n",
       "      <td>258</td>\n",
       "    </tr>\n",
       "    <tr>\n",
       "      <th>25-29</th>\n",
       "      <td>77</td>\n",
       "    </tr>\n",
       "    <tr>\n",
       "      <th>30-34</th>\n",
       "      <td>52</td>\n",
       "    </tr>\n",
       "    <tr>\n",
       "      <th>35-39</th>\n",
       "      <td>31</td>\n",
       "    </tr>\n",
       "    <tr>\n",
       "      <th>40+</th>\n",
       "      <td>12</td>\n",
       "    </tr>\n",
       "  </tbody>\n",
       "</table>\n",
       "</div>"
      ],
      "text/plain": [
       "             SN\n",
       "Age Ranges     \n",
       "<10          17\n",
       "10-14        22\n",
       "15-19       107\n",
       "20-24       258\n",
       "25-29        77\n",
       "30-34        52\n",
       "35-39        31\n",
       "40+          12"
      ]
     },
     "execution_count": 91,
     "metadata": {},
     "output_type": "execute_result"
    }
   ],
   "source": [
    "# PURCHASING ANALYSIS (AGE)\n",
    "print(\"*** IN PROGRESS *** PURCHASING ANALYSIS (AGE)\")\n",
    "\n",
    "\n",
    "# Add bins to the original purchase_file data frame\n",
    "purchase_file_df[\"Age Ranges\"] = pd.cut(purchase_file_df[\"Age\"], age_bins, labels=age_groups, include_lowest=True)\n",
    "purchase_file_df.head()\n",
    "\n",
    "sn_distinct_df = purchase_file_df[[\"Age Ranges\",\"SN\"]].drop_duplicates()\n",
    "sn_distinct_df.head()\n",
    "\n",
    "sn_distinct_counts = sn_distinct_df.groupby([\"Age Ranges\"]).count()\n",
    "sn_distinct_counts\n",
    "\n",
    "#age_distinct_counts = sn_distinct_counts[\"SN\"].count()\n",
    "#age_distinct_counts\n",
    "\n",
    "#age_purchases_df = purchase_file_df[[\"Age Ranges\",\"Price\"]]\n",
    "#age_purchases_df.head()\n",
    "\n",
    "#age_purchases_group = age_purchases_df.groupby([\"Age Ranges\"]).count()\n",
    "#age_purchases_group.columns = [\"Purchase Count\"]\n",
    "#age_purchases_group[\"Average Purchase Price\"] = age_purchases_df.groupby([\"Age Ranges\"]).mean()\n",
    "#age_purchases_group[\"Total Purchase Value\"] = age_purchases_group[\"Purchase Count\"] * age_purchases_group[\"Average Purchase Price\"]\n",
    "#age_purchases_group[\"Avg Total Purchase Price\"] = age_purchases_group[\"Total Purchase Value\"] / sn_distinct_counts\n",
    "\n",
    "#age_purchases_group"
   ]
  },
  {
   "cell_type": "code",
   "execution_count": 104,
   "id": "1543f3e1",
   "metadata": {},
   "outputs": [
    {
     "name": "stdout",
     "output_type": "stream",
     "text": [
      "TOP SPENDERS\n"
     ]
    },
    {
     "data": {
      "text/html": [
       "<style  type=\"text/css\" >\n",
       "#T_4abee_row0_col0,#T_4abee_row0_col1,#T_4abee_row0_col2,#T_4abee_row1_col0,#T_4abee_row1_col1,#T_4abee_row1_col2,#T_4abee_row2_col0,#T_4abee_row2_col1,#T_4abee_row2_col2,#T_4abee_row3_col0,#T_4abee_row3_col1,#T_4abee_row3_col2,#T_4abee_row4_col0,#T_4abee_row4_col1,#T_4abee_row4_col2{\n",
       "            text-align:  left;\n",
       "        }</style><table id=\"T_4abee_\" ><thead>    <tr>        <th class=\"blank level0\" ></th>        <th class=\"col_heading level0 col0\" >Purchase Count</th>        <th class=\"col_heading level0 col1\" >Average Purchase Price</th>        <th class=\"col_heading level0 col2\" >Total Purchase Value</th>    </tr>    <tr>        <th class=\"index_name level0\" >SN</th>        <th class=\"blank\" ></th>        <th class=\"blank\" ></th>        <th class=\"blank\" ></th>    </tr></thead><tbody>\n",
       "                <tr>\n",
       "                        <th id=\"T_4abee_level0_row0\" class=\"row_heading level0 row0\" >Lisosia93</th>\n",
       "                        <td id=\"T_4abee_row0_col0\" class=\"data row0 col0\" >5</td>\n",
       "                        <td id=\"T_4abee_row0_col1\" class=\"data row0 col1\" >$3.79</td>\n",
       "                        <td id=\"T_4abee_row0_col2\" class=\"data row0 col2\" >$18.96</td>\n",
       "            </tr>\n",
       "            <tr>\n",
       "                        <th id=\"T_4abee_level0_row1\" class=\"row_heading level0 row1\" >Idastidru52</th>\n",
       "                        <td id=\"T_4abee_row1_col0\" class=\"data row1 col0\" >4</td>\n",
       "                        <td id=\"T_4abee_row1_col1\" class=\"data row1 col1\" >$3.86</td>\n",
       "                        <td id=\"T_4abee_row1_col2\" class=\"data row1 col2\" >$15.45</td>\n",
       "            </tr>\n",
       "            <tr>\n",
       "                        <th id=\"T_4abee_level0_row2\" class=\"row_heading level0 row2\" >Chamjask73</th>\n",
       "                        <td id=\"T_4abee_row2_col0\" class=\"data row2 col0\" >3</td>\n",
       "                        <td id=\"T_4abee_row2_col1\" class=\"data row2 col1\" >$4.61</td>\n",
       "                        <td id=\"T_4abee_row2_col2\" class=\"data row2 col2\" >$13.83</td>\n",
       "            </tr>\n",
       "            <tr>\n",
       "                        <th id=\"T_4abee_level0_row3\" class=\"row_heading level0 row3\" >Iral74</th>\n",
       "                        <td id=\"T_4abee_row3_col0\" class=\"data row3 col0\" >4</td>\n",
       "                        <td id=\"T_4abee_row3_col1\" class=\"data row3 col1\" >$3.40</td>\n",
       "                        <td id=\"T_4abee_row3_col2\" class=\"data row3 col2\" >$13.62</td>\n",
       "            </tr>\n",
       "            <tr>\n",
       "                        <th id=\"T_4abee_level0_row4\" class=\"row_heading level0 row4\" >Iskadarya95</th>\n",
       "                        <td id=\"T_4abee_row4_col0\" class=\"data row4 col0\" >3</td>\n",
       "                        <td id=\"T_4abee_row4_col1\" class=\"data row4 col1\" >$4.37</td>\n",
       "                        <td id=\"T_4abee_row4_col2\" class=\"data row4 col2\" >$13.10</td>\n",
       "            </tr>\n",
       "    </tbody></table>"
      ],
      "text/plain": [
       "<pandas.io.formats.style.Styler at 0x235d2d2f460>"
      ]
     },
     "execution_count": 104,
     "metadata": {},
     "output_type": "execute_result"
    }
   ],
   "source": [
    "# TOP SPENDERS\n",
    "print(\"TOP SPENDERS\")\n",
    "\n",
    "spenders_df = purchase_file_df[[\"SN\", \"Price\"]]\n",
    "spenders_df.head()\n",
    "\n",
    "spenders_group = spenders_df.groupby([\"SN\"]).count()\n",
    "spenders_group.columns = [\"Purchase Count\"]\n",
    "spenders_group[\"Average Purchase Price\"] = spenders_df.groupby([\"SN\"]).mean()\n",
    "spenders_group[\"Total Purchase Value\"] = spenders_group[\"Purchase Count\"] * spenders_group[\"Average Purchase Price\"]\n",
    "spenders_group = spenders_group.sort_values(\"Total Purchase Value\", ascending=False)\n",
    "spenders_group[\"Average Purchase Price\"] = spenders_group[\"Average Purchase Price\"].map(\"${:,.2f}\".format)\n",
    "spenders_group[\"Total Purchase Value\"] = spenders_group[\"Total Purchase Value\"].map(\"${:,.2f}\".format)\n",
    "\n",
    "spenders_group.head().style.set_properties(**{'text-align': 'left'})"
   ]
  },
  {
   "cell_type": "code",
   "execution_count": 106,
   "id": "22ba90eb",
   "metadata": {},
   "outputs": [
    {
     "name": "stdout",
     "output_type": "stream",
     "text": [
      "MOST POPULAR ITEMS\n"
     ]
    },
    {
     "data": {
      "text/html": [
       "<style  type=\"text/css\" >\n",
       "#T_71673_row0_col0,#T_71673_row0_col1,#T_71673_row0_col2,#T_71673_row1_col0,#T_71673_row1_col1,#T_71673_row1_col2,#T_71673_row2_col0,#T_71673_row2_col1,#T_71673_row2_col2,#T_71673_row3_col0,#T_71673_row3_col1,#T_71673_row3_col2,#T_71673_row4_col0,#T_71673_row4_col1,#T_71673_row4_col2{\n",
       "            text-align:  left;\n",
       "        }</style><table id=\"T_71673_\" ><thead>    <tr>        <th class=\"blank\" ></th>        <th class=\"blank level0\" ></th>        <th class=\"col_heading level0 col0\" >Purchase Count</th>        <th class=\"col_heading level0 col1\" >Item Price</th>        <th class=\"col_heading level0 col2\" >Total Purchase Value</th>    </tr>    <tr>        <th class=\"index_name level0\" >Item ID</th>        <th class=\"index_name level1\" >Item Name</th>        <th class=\"blank\" ></th>        <th class=\"blank\" ></th>        <th class=\"blank\" ></th>    </tr></thead><tbody>\n",
       "                <tr>\n",
       "                        <th id=\"T_71673_level0_row0\" class=\"row_heading level0 row0\" >92</th>\n",
       "                        <th id=\"T_71673_level1_row0\" class=\"row_heading level1 row0\" >Final Critic</th>\n",
       "                        <td id=\"T_71673_row0_col0\" class=\"data row0 col0\" >13</td>\n",
       "                        <td id=\"T_71673_row0_col1\" class=\"data row0 col1\" >$4.61</td>\n",
       "                        <td id=\"T_71673_row0_col2\" class=\"data row0 col2\" >$59.99</td>\n",
       "            </tr>\n",
       "            <tr>\n",
       "                        <th id=\"T_71673_level0_row1\" class=\"row_heading level0 row1\" >178</th>\n",
       "                        <th id=\"T_71673_level1_row1\" class=\"row_heading level1 row1\" >Oathbreaker, Last Hope of the Breaking Storm</th>\n",
       "                        <td id=\"T_71673_row1_col0\" class=\"data row1 col0\" >12</td>\n",
       "                        <td id=\"T_71673_row1_col1\" class=\"data row1 col1\" >$4.23</td>\n",
       "                        <td id=\"T_71673_row1_col2\" class=\"data row1 col2\" >$50.76</td>\n",
       "            </tr>\n",
       "            <tr>\n",
       "                        <th id=\"T_71673_level0_row2\" class=\"row_heading level0 row2\" >145</th>\n",
       "                        <th id=\"T_71673_level1_row2\" class=\"row_heading level1 row2\" >Fiery Glass Crusader</th>\n",
       "                        <td id=\"T_71673_row2_col0\" class=\"data row2 col0\" >9</td>\n",
       "                        <td id=\"T_71673_row2_col1\" class=\"data row2 col1\" >$4.58</td>\n",
       "                        <td id=\"T_71673_row2_col2\" class=\"data row2 col2\" >$41.22</td>\n",
       "            </tr>\n",
       "            <tr>\n",
       "                        <th id=\"T_71673_level0_row3\" class=\"row_heading level0 row3\" >132</th>\n",
       "                        <th id=\"T_71673_level1_row3\" class=\"row_heading level1 row3\" >Persuasion</th>\n",
       "                        <td id=\"T_71673_row3_col0\" class=\"data row3 col0\" >9</td>\n",
       "                        <td id=\"T_71673_row3_col1\" class=\"data row3 col1\" >$3.22</td>\n",
       "                        <td id=\"T_71673_row3_col2\" class=\"data row3 col2\" >$28.99</td>\n",
       "            </tr>\n",
       "            <tr>\n",
       "                        <th id=\"T_71673_level0_row4\" class=\"row_heading level0 row4\" >108</th>\n",
       "                        <th id=\"T_71673_level1_row4\" class=\"row_heading level1 row4\" >Extraction, Quickblade Of Trembling Hands</th>\n",
       "                        <td id=\"T_71673_row4_col0\" class=\"data row4 col0\" >9</td>\n",
       "                        <td id=\"T_71673_row4_col1\" class=\"data row4 col1\" >$3.53</td>\n",
       "                        <td id=\"T_71673_row4_col2\" class=\"data row4 col2\" >$31.77</td>\n",
       "            </tr>\n",
       "    </tbody></table>"
      ],
      "text/plain": [
       "<pandas.io.formats.style.Styler at 0x235d3205e80>"
      ]
     },
     "execution_count": 106,
     "metadata": {},
     "output_type": "execute_result"
    }
   ],
   "source": [
    "# MOST POPULAR ITEMS\n",
    "print(\"MOST POPULAR ITEMS\")\n",
    "\n",
    "item_df = purchase_file_df[[\"Item ID\", \"Item Name\", \"Price\"]]\n",
    "item_df.head()\n",
    "\n",
    "item_group = item_df.groupby([\"Item ID\",\"Item Name\"]).count()\n",
    "item_group.columns = [\"Purchase Count\"]\n",
    "item_group[\"Item Price\"] = item_df.groupby([\"Item ID\",\"Item Name\"]).mean()\n",
    "\n",
    "item_group[\"Total Purchase Value\"] = item_group[\"Purchase Count\"] * item_group[\"Item Price\"]\n",
    "item_group = item_group.sort_values(\"Purchase Count\", ascending=False)\n",
    "item_group[\"Item Price\"] = item_group[\"Item Price\"].map(\"${:,.2f}\".format)\n",
    "item_group[\"Total Purchase Value\"] = item_group[\"Total Purchase Value\"].map(\"${:,.2f}\".format)\n",
    "item_group.head().style.set_properties(**{'text-align': 'left'})"
   ]
  },
  {
   "cell_type": "code",
   "execution_count": 107,
   "id": "de9cd115",
   "metadata": {},
   "outputs": [
    {
     "name": "stdout",
     "output_type": "stream",
     "text": [
      "*** OK, BUT DO I NEED ALL THE CODE? *** MOST PROFITABLE ITEMS\n",
      "*** HOW TO LEFT-JUSTIFY ITEM NAME? *** MOST PROFITABLE ITEMS\n"
     ]
    },
    {
     "data": {
      "text/html": [
       "<style  type=\"text/css\" >\n",
       "#T_326ae_row0_col0,#T_326ae_row0_col1,#T_326ae_row0_col2,#T_326ae_row1_col0,#T_326ae_row1_col1,#T_326ae_row1_col2,#T_326ae_row2_col0,#T_326ae_row2_col1,#T_326ae_row2_col2,#T_326ae_row3_col0,#T_326ae_row3_col1,#T_326ae_row3_col2,#T_326ae_row4_col0,#T_326ae_row4_col1,#T_326ae_row4_col2{\n",
       "            text-align:  left;\n",
       "        }</style><table id=\"T_326ae_\" ><thead>    <tr>        <th class=\"blank\" ></th>        <th class=\"blank level0\" ></th>        <th class=\"col_heading level0 col0\" >Purchase Count</th>        <th class=\"col_heading level0 col1\" >Item Price</th>        <th class=\"col_heading level0 col2\" >Total Purchase Value</th>    </tr>    <tr>        <th class=\"index_name level0\" >Item ID</th>        <th class=\"index_name level1\" >Item Name</th>        <th class=\"blank\" ></th>        <th class=\"blank\" ></th>        <th class=\"blank\" ></th>    </tr></thead><tbody>\n",
       "                <tr>\n",
       "                        <th id=\"T_326ae_level0_row0\" class=\"row_heading level0 row0\" >92</th>\n",
       "                        <th id=\"T_326ae_level1_row0\" class=\"row_heading level1 row0\" >Final Critic</th>\n",
       "                        <td id=\"T_326ae_row0_col0\" class=\"data row0 col0\" >13</td>\n",
       "                        <td id=\"T_326ae_row0_col1\" class=\"data row0 col1\" >$4.61</td>\n",
       "                        <td id=\"T_326ae_row0_col2\" class=\"data row0 col2\" >$59.99</td>\n",
       "            </tr>\n",
       "            <tr>\n",
       "                        <th id=\"T_326ae_level0_row1\" class=\"row_heading level0 row1\" >178</th>\n",
       "                        <th id=\"T_326ae_level1_row1\" class=\"row_heading level1 row1\" >Oathbreaker, Last Hope of the Breaking Storm</th>\n",
       "                        <td id=\"T_326ae_row1_col0\" class=\"data row1 col0\" >12</td>\n",
       "                        <td id=\"T_326ae_row1_col1\" class=\"data row1 col1\" >$4.23</td>\n",
       "                        <td id=\"T_326ae_row1_col2\" class=\"data row1 col2\" >$50.76</td>\n",
       "            </tr>\n",
       "            <tr>\n",
       "                        <th id=\"T_326ae_level0_row2\" class=\"row_heading level0 row2\" >82</th>\n",
       "                        <th id=\"T_326ae_level1_row2\" class=\"row_heading level1 row2\" >Nirvana</th>\n",
       "                        <td id=\"T_326ae_row2_col0\" class=\"data row2 col0\" >9</td>\n",
       "                        <td id=\"T_326ae_row2_col1\" class=\"data row2 col1\" >$4.90</td>\n",
       "                        <td id=\"T_326ae_row2_col2\" class=\"data row2 col2\" >$44.10</td>\n",
       "            </tr>\n",
       "            <tr>\n",
       "                        <th id=\"T_326ae_level0_row3\" class=\"row_heading level0 row3\" >145</th>\n",
       "                        <th id=\"T_326ae_level1_row3\" class=\"row_heading level1 row3\" >Fiery Glass Crusader</th>\n",
       "                        <td id=\"T_326ae_row3_col0\" class=\"data row3 col0\" >9</td>\n",
       "                        <td id=\"T_326ae_row3_col1\" class=\"data row3 col1\" >$4.58</td>\n",
       "                        <td id=\"T_326ae_row3_col2\" class=\"data row3 col2\" >$41.22</td>\n",
       "            </tr>\n",
       "            <tr>\n",
       "                        <th id=\"T_326ae_level0_row4\" class=\"row_heading level0 row4\" >103</th>\n",
       "                        <th id=\"T_326ae_level1_row4\" class=\"row_heading level1 row4\" >Singed Scalpel</th>\n",
       "                        <td id=\"T_326ae_row4_col0\" class=\"data row4 col0\" >8</td>\n",
       "                        <td id=\"T_326ae_row4_col1\" class=\"data row4 col1\" >$4.35</td>\n",
       "                        <td id=\"T_326ae_row4_col2\" class=\"data row4 col2\" >$34.80</td>\n",
       "            </tr>\n",
       "    </tbody></table>"
      ],
      "text/plain": [
       "<pandas.io.formats.style.Styler at 0x235d30ddeb0>"
      ]
     },
     "execution_count": 107,
     "metadata": {},
     "output_type": "execute_result"
    }
   ],
   "source": [
    "print(\"*** OK, BUT DO I NEED ALL THE CODE? *** MOST PROFITABLE ITEMS\")\n",
    "print(\"*** HOW TO LEFT-JUSTIFY ITEM NAME? *** MOST PROFITABLE ITEMS\")\n",
    "\n",
    "item_df = purchase_file_df[[\"Item ID\", \"Item Name\", \"Price\"]]\n",
    "item_df.head()\n",
    "\n",
    "item_group = item_df.groupby([\"Item ID\",\"Item Name\"]).count()\n",
    "item_group.columns = [\"Purchase Count\"]\n",
    "item_group[\"Item Price\"] = item_df.groupby([\"Item ID\",\"Item Name\"]).mean()\n",
    "\n",
    "item_group[\"Total Purchase Value\"] = item_group[\"Purchase Count\"] * item_group[\"Item Price\"]\n",
    "item_group = item_group.sort_values(\"Total Purchase Value\", ascending=False)\n",
    "item_group[\"Item Price\"] = item_group[\"Item Price\"].map(\"${:,.2f}\".format)\n",
    "item_group[\"Total Purchase Value\"] = item_group[\"Total Purchase Value\"].map(\"${:,.2f}\".format)\n",
    "item_group.head().style.set_properties(**{'text-align': 'left'})"
   ]
  },
  {
   "cell_type": "code",
   "execution_count": null,
   "id": "b29ac7b7",
   "metadata": {},
   "outputs": [],
   "source": []
  }
 ],
 "metadata": {
  "kernelspec": {
   "display_name": "Python 3",
   "language": "python",
   "name": "python3"
  },
  "language_info": {
   "codemirror_mode": {
    "name": "ipython",
    "version": 3
   },
   "file_extension": ".py",
   "mimetype": "text/x-python",
   "name": "python",
   "nbconvert_exporter": "python",
   "pygments_lexer": "ipython3",
   "version": "3.8.8"
  }
 },
 "nbformat": 4,
 "nbformat_minor": 5
}
