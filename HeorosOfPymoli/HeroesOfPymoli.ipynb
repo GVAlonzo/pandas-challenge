{
 "cells": [
  {
   "cell_type": "code",
   "execution_count": 3,
   "id": "806c8844",
   "metadata": {},
   "outputs": [
    {
     "data": {
      "text/html": [
       "<div>\n",
       "<style scoped>\n",
       "    .dataframe tbody tr th:only-of-type {\n",
       "        vertical-align: middle;\n",
       "    }\n",
       "\n",
       "    .dataframe tbody tr th {\n",
       "        vertical-align: top;\n",
       "    }\n",
       "\n",
       "    .dataframe thead th {\n",
       "        text-align: right;\n",
       "    }\n",
       "</style>\n",
       "<table border=\"1\" class=\"dataframe\">\n",
       "  <thead>\n",
       "    <tr style=\"text-align: right;\">\n",
       "      <th></th>\n",
       "      <th>Purchase ID</th>\n",
       "      <th>SN</th>\n",
       "      <th>Age</th>\n",
       "      <th>Gender</th>\n",
       "      <th>Item ID</th>\n",
       "      <th>Item Name</th>\n",
       "      <th>Price</th>\n",
       "    </tr>\n",
       "  </thead>\n",
       "  <tbody>\n",
       "    <tr>\n",
       "      <th>0</th>\n",
       "      <td>0</td>\n",
       "      <td>Lisim78</td>\n",
       "      <td>20</td>\n",
       "      <td>Male</td>\n",
       "      <td>108</td>\n",
       "      <td>Extraction, Quickblade Of Trembling Hands</td>\n",
       "      <td>3.53</td>\n",
       "    </tr>\n",
       "    <tr>\n",
       "      <th>1</th>\n",
       "      <td>1</td>\n",
       "      <td>Lisovynya38</td>\n",
       "      <td>40</td>\n",
       "      <td>Male</td>\n",
       "      <td>143</td>\n",
       "      <td>Frenzied Scimitar</td>\n",
       "      <td>1.56</td>\n",
       "    </tr>\n",
       "    <tr>\n",
       "      <th>2</th>\n",
       "      <td>2</td>\n",
       "      <td>Ithergue48</td>\n",
       "      <td>24</td>\n",
       "      <td>Male</td>\n",
       "      <td>92</td>\n",
       "      <td>Final Critic</td>\n",
       "      <td>4.88</td>\n",
       "    </tr>\n",
       "    <tr>\n",
       "      <th>3</th>\n",
       "      <td>3</td>\n",
       "      <td>Chamassasya86</td>\n",
       "      <td>24</td>\n",
       "      <td>Male</td>\n",
       "      <td>100</td>\n",
       "      <td>Blindscythe</td>\n",
       "      <td>3.27</td>\n",
       "    </tr>\n",
       "    <tr>\n",
       "      <th>4</th>\n",
       "      <td>4</td>\n",
       "      <td>Iskosia90</td>\n",
       "      <td>23</td>\n",
       "      <td>Male</td>\n",
       "      <td>131</td>\n",
       "      <td>Fury</td>\n",
       "      <td>1.44</td>\n",
       "    </tr>\n",
       "  </tbody>\n",
       "</table>\n",
       "</div>"
      ],
      "text/plain": [
       "   Purchase ID             SN  Age Gender  Item ID  \\\n",
       "0            0        Lisim78   20   Male      108   \n",
       "1            1    Lisovynya38   40   Male      143   \n",
       "2            2     Ithergue48   24   Male       92   \n",
       "3            3  Chamassasya86   24   Male      100   \n",
       "4            4      Iskosia90   23   Male      131   \n",
       "\n",
       "                                   Item Name  Price  \n",
       "0  Extraction, Quickblade Of Trembling Hands   3.53  \n",
       "1                          Frenzied Scimitar   1.56  \n",
       "2                               Final Critic   4.88  \n",
       "3                                Blindscythe   3.27  \n",
       "4                                       Fury   1.44  "
      ]
     },
     "execution_count": 3,
     "metadata": {},
     "output_type": "execute_result"
    }
   ],
   "source": [
    "#*****************************************************************************\n",
    "#**\n",
    "#**  Pandas Homework: Pandas, Pandas, Pandas\n",
    "#**\n",
    "#**   Heroes of Pymoli\n",
    "#**\n",
    "#**     Author: George Alonzo\n",
    "#**   Due Date: Sept 25, 2021\n",
    "#**\n",
    "#*****************************************************************************\n",
    "\n",
    "import pandas as pd\n",
    "\n",
    "purchase_file = \"Resources/purchase_data.csv\"\n",
    "\n",
    "purchase_file_df = pd.read_csv(purchase_file)\n",
    "#purchase_file_df[\"Price\"] = purchase_file_df[\"Price\"].map(\"${:.2f}\".format)\n",
    "purchase_file_df.head()"
   ]
  },
  {
   "cell_type": "code",
   "execution_count": 11,
   "id": "0285b6fd",
   "metadata": {},
   "outputs": [
    {
     "name": "stdout",
     "output_type": "stream",
     "text": [
      "PLAYER COUNT\n"
     ]
    },
    {
     "data": {
      "text/html": [
       "<div>\n",
       "<style scoped>\n",
       "    .dataframe tbody tr th:only-of-type {\n",
       "        vertical-align: middle;\n",
       "    }\n",
       "\n",
       "    .dataframe tbody tr th {\n",
       "        vertical-align: top;\n",
       "    }\n",
       "\n",
       "    .dataframe thead th {\n",
       "        text-align: right;\n",
       "    }\n",
       "</style>\n",
       "<table border=\"1\" class=\"dataframe\">\n",
       "  <thead>\n",
       "    <tr style=\"text-align: right;\">\n",
       "      <th></th>\n",
       "      <th>Total Players (Unique)</th>\n",
       "    </tr>\n",
       "  </thead>\n",
       "  <tbody>\n",
       "    <tr>\n",
       "      <th>0</th>\n",
       "      <td>576</td>\n",
       "    </tr>\n",
       "  </tbody>\n",
       "</table>\n",
       "</div>"
      ],
      "text/plain": [
       "   Total Players (Unique)\n",
       "0                     576"
      ]
     },
     "execution_count": 11,
     "metadata": {},
     "output_type": "execute_result"
    }
   ],
   "source": [
    "# PLAYER COUNT\n",
    "\n",
    "player_num = purchase_file_df[\"SN\"].count()\n",
    "player_num_unique = len(purchase_file_df[\"SN\"].unique())\n",
    "\n",
    "print(\"PLAYER COUNT\")\n",
    "player_count_df = pd.DataFrame({\"Total Players (Unique)\": [player_num_unique]})\n",
    "player_count_df"
   ]
  },
  {
   "cell_type": "code",
   "execution_count": 13,
   "id": "317fe817",
   "metadata": {},
   "outputs": [
    {
     "name": "stdout",
     "output_type": "stream",
     "text": [
      "PURCHASING ANALYSIS (TOTAL)\n"
     ]
    },
    {
     "data": {
      "text/html": [
       "<div>\n",
       "<style scoped>\n",
       "    .dataframe tbody tr th:only-of-type {\n",
       "        vertical-align: middle;\n",
       "    }\n",
       "\n",
       "    .dataframe tbody tr th {\n",
       "        vertical-align: top;\n",
       "    }\n",
       "\n",
       "    .dataframe thead th {\n",
       "        text-align: right;\n",
       "    }\n",
       "</style>\n",
       "<table border=\"1\" class=\"dataframe\">\n",
       "  <thead>\n",
       "    <tr style=\"text-align: right;\">\n",
       "      <th></th>\n",
       "      <th>Number of Unique Items</th>\n",
       "      <th>Average Price</th>\n",
       "      <th>Number of Purchases</th>\n",
       "      <th>Total Revenue</th>\n",
       "    </tr>\n",
       "  </thead>\n",
       "  <tbody>\n",
       "    <tr>\n",
       "      <th>0</th>\n",
       "      <td>179</td>\n",
       "      <td>$3.05</td>\n",
       "      <td>780</td>\n",
       "      <td>$2,379.77</td>\n",
       "    </tr>\n",
       "  </tbody>\n",
       "</table>\n",
       "</div>"
      ],
      "text/plain": [
       "   Number of Unique Items Average Price  Number of Purchases Total Revenue\n",
       "0                     179         $3.05                  780     $2,379.77"
      ]
     },
     "execution_count": 13,
     "metadata": {},
     "output_type": "execute_result"
    }
   ],
   "source": [
    "# PURCHASING ANALYSIS (TOTAL)\n",
    "\n",
    "item_unique = len(purchase_file_df[\"Item Name\"].unique())\n",
    "avg_price = purchase_file_df[\"Price\"].mean()\n",
    "purchases_num = purchase_file_df[\"Purchase ID\"].count()\n",
    "tot_revenue = purchase_file_df[\"Price\"].sum()\n",
    "\n",
    "purchasing_analysis_df = pd.DataFrame({\"Number of Unique Items\": [item_unique], \"Average Price\": [avg_price],\n",
    "                                       \"Number of Purchases\": [purchases_num], \"Total Revenue\": [tot_revenue]})\n",
    "purchasing_analysis_df[\"Average Price\"] = purchasing_analysis_df[\"Average Price\"].map(\"${:.2f}\".format)\n",
    "purchasing_analysis_df[\"Total Revenue\"] = purchasing_analysis_df[\"Total Revenue\"].map(\"${:,.2f}\".format)\n",
    "print(\"PURCHASING ANALYSIS (TOTAL)\")\n",
    "purchasing_analysis_df"
   ]
  },
  {
   "cell_type": "code",
   "execution_count": 24,
   "id": "9d92fbe4",
   "metadata": {},
   "outputs": [
    {
     "name": "stdout",
     "output_type": "stream",
     "text": [
      "GENDER DEMOGRAPHICS\n",
      "ADD SORT?\n"
     ]
    }
   ],
   "source": [
    "# GENDER DEMOGRAPHICS\n",
    "print(\"GENDER DEMOGRAPHICS\")\n",
    "\n",
    "#Create new DF with distinct Screen Names for demographics\n",
    "gender_distinct_df = purchase_file_df[[\"Gender\",\"SN\"]].drop_duplicates()\n",
    "distinct_tot = gender_distinct_df[\"SN\"].count()\n",
    "\n",
    "gender_counts = gender_distinct_df[\"Gender\"].value_counts()\n",
    "gender_pcts = (gender_distinct_df[\"Gender\"].value_counts() / distinct_tot) *100\n",
    "gender_demo_df = pd.DataFrame({\"Total Count\": gender_counts, \"Percentage\": gender_pcts})\n",
    "gender_demo_df[\"Percentage\"] = gender_demo_df[\"Percentage\"].map(\"{:.2f}%\".format)\n",
    "gender_demo_df\n",
    "print(\"ADD SORT?\")"
   ]
  },
  {
   "cell_type": "code",
   "execution_count": 80,
   "id": "db17bc7d",
   "metadata": {},
   "outputs": [
    {
     "name": "stdout",
     "output_type": "stream",
     "text": [
      "PURCHASING ANALYSIS (GENDER)\n"
     ]
    },
    {
     "data": {
      "text/html": [
       "<div>\n",
       "<style scoped>\n",
       "    .dataframe tbody tr th:only-of-type {\n",
       "        vertical-align: middle;\n",
       "    }\n",
       "\n",
       "    .dataframe tbody tr th {\n",
       "        vertical-align: top;\n",
       "    }\n",
       "\n",
       "    .dataframe thead th {\n",
       "        text-align: right;\n",
       "    }\n",
       "</style>\n",
       "<table border=\"1\" class=\"dataframe\">\n",
       "  <thead>\n",
       "    <tr style=\"text-align: right;\">\n",
       "      <th></th>\n",
       "      <th>Purchase Count</th>\n",
       "      <th>Avg Purchase Price</th>\n",
       "      <th>Tot Purchase Value</th>\n",
       "    </tr>\n",
       "    <tr>\n",
       "      <th>Gender</th>\n",
       "      <th></th>\n",
       "      <th></th>\n",
       "      <th></th>\n",
       "    </tr>\n",
       "  </thead>\n",
       "  <tbody>\n",
       "    <tr>\n",
       "      <th>Female</th>\n",
       "      <td>113</td>\n",
       "      <td>$3.20</td>\n",
       "      <td>$361.94</td>\n",
       "    </tr>\n",
       "    <tr>\n",
       "      <th>Male</th>\n",
       "      <td>652</td>\n",
       "      <td>$3.02</td>\n",
       "      <td>$1967.64</td>\n",
       "    </tr>\n",
       "    <tr>\n",
       "      <th>Other / Non-Disclosed</th>\n",
       "      <td>15</td>\n",
       "      <td>$3.35</td>\n",
       "      <td>$50.19</td>\n",
       "    </tr>\n",
       "  </tbody>\n",
       "</table>\n",
       "</div>"
      ],
      "text/plain": [
       "                       Purchase Count Avg Purchase Price Tot Purchase Value\n",
       "Gender                                                                     \n",
       "Female                            113              $3.20            $361.94\n",
       "Male                              652              $3.02           $1967.64\n",
       "Other / Non-Disclosed              15              $3.35             $50.19"
      ]
     },
     "execution_count": 80,
     "metadata": {},
     "output_type": "execute_result"
    }
   ],
   "source": [
    "# PURCHASING ANALYSIS (GENDER)\n",
    "print(\"PURCHASING ANALYSIS (GENDER)\")\n",
    "\n",
    "g_purchases_df = purchase_file_df[[\"Gender\", \"Price\"]]\n",
    "g_group = g_purchases_df.groupby([\"Gender\"])\n",
    "\n",
    "g_summary_df = g_group.count()\n",
    "g_summary_df = g_summary_df.rename(columns = {\"Price\": \"Purchase Count\"})\n",
    "g_summary_df[\"Avg Purchase Price\"] = g_group.mean()\n",
    "g_summary_df[\"Avg Purchase Price\"] = g_summary_df[\"Avg Purchase Price\"].map(\"${:.2f}\".format)\n",
    "g_summary_df[\"Tot Purchase Value\"]= g_group.sum()\n",
    "g_summary_df[\"Tot Purchase Value\"] = g_summary_df[\"Tot Purchase Value\"].map(\"${:.2f}\".format)\n",
    "g_summary_df"
   ]
  },
  {
   "cell_type": "code",
   "execution_count": null,
   "id": "104c4961",
   "metadata": {},
   "outputs": [],
   "source": [
    "# AGE DEMOGRAPHICS\n",
    "print(\"AGE DEMOGRAPHICS\")"
   ]
  },
  {
   "cell_type": "code",
   "execution_count": null,
   "id": "48fcac46",
   "metadata": {},
   "outputs": [],
   "source": [
    "# PURCHASING ANALYSIS (AGE)\n",
    "print(\"PURCHASING ANALYSIS (AGE)\")"
   ]
  },
  {
   "cell_type": "code",
   "execution_count": null,
   "id": "1543f3e1",
   "metadata": {},
   "outputs": [],
   "source": [
    "# TOP SPENDERS\n",
    "print(\"TOP SPENDERS\")"
   ]
  },
  {
   "cell_type": "code",
   "execution_count": null,
   "id": "22ba90eb",
   "metadata": {},
   "outputs": [],
   "source": [
    "# MOST POPULAR ITEMS\n",
    "print(\"MOST POPULAR ITEMS\")"
   ]
  },
  {
   "cell_type": "code",
   "execution_count": null,
   "id": "de9cd115",
   "metadata": {},
   "outputs": [],
   "source": [
    "# MOST PROFITABLE ITEMS\n",
    "print(\"MOST PROFITABLE ITEMS\")"
   ]
  },
  {
   "cell_type": "code",
   "execution_count": null,
   "id": "d094ee2a",
   "metadata": {},
   "outputs": [],
   "source": []
  }
 ],
 "metadata": {
  "kernelspec": {
   "display_name": "Python 3",
   "language": "python",
   "name": "python3"
  },
  "language_info": {
   "codemirror_mode": {
    "name": "ipython",
    "version": 3
   },
   "file_extension": ".py",
   "mimetype": "text/x-python",
   "name": "python",
   "nbconvert_exporter": "python",
   "pygments_lexer": "ipython3",
   "version": "3.8.8"
  }
 },
 "nbformat": 4,
 "nbformat_minor": 5
}
