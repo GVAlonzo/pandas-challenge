{
 "cells": [
  {
   "cell_type": "code",
   "execution_count": 1,
   "id": "806c8844",
   "metadata": {},
   "outputs": [],
   "source": [
    "#*****************************************************************************\n",
    "#**\n",
    "#**  Pandas Homework: Pandas, Pandas, Pandas\n",
    "#**\n",
    "#**   Heroes of Pymoli\n",
    "#**\n",
    "#**     Author: George Alonzo\n",
    "#**   Due Date: Sept 25, 2021\n",
    "#**\n",
    "#*****************************************************************************\n",
    "\n",
    "import pandas as pd\n",
    "import numpy as np\n",
    "\n",
    "purchase_file = \"Resources/purchase_data.csv\"\n",
    "purchase_file_df = pd.read_csv(purchase_file)"
   ]
  },
  {
   "cell_type": "code",
   "execution_count": 2,
   "id": "0285b6fd",
   "metadata": {},
   "outputs": [
    {
     "name": "stdout",
     "output_type": "stream",
     "text": [
      "PLAYER COUNT\n"
     ]
    },
    {
     "data": {
      "text/html": [
       "<style  type=\"text/css\" >\n",
       "#T_7753f_row0_col0{\n",
       "            text-align:  left;\n",
       "        }</style><table id=\"T_7753f_\" ><thead>    <tr>        <th class=\"blank level0\" ></th>        <th class=\"col_heading level0 col0\" >Total Players (Unique)</th>    </tr></thead><tbody>\n",
       "                <tr>\n",
       "                        <th id=\"T_7753f_level0_row0\" class=\"row_heading level0 row0\" >0</th>\n",
       "                        <td id=\"T_7753f_row0_col0\" class=\"data row0 col0\" >576</td>\n",
       "            </tr>\n",
       "    </tbody></table>"
      ],
      "text/plain": [
       "<pandas.io.formats.style.Styler at 0x1a6a4148a00>"
      ]
     },
     "execution_count": 2,
     "metadata": {},
     "output_type": "execute_result"
    }
   ],
   "source": [
    "# PLAYER COUNT\n",
    "print(\"PLAYER COUNT\")\n",
    "\n",
    "player_num_unique = len(purchase_file_df[\"SN\"].unique())\n",
    "# Add to a dataframe for better display\n",
    "player_count_df = pd.DataFrame({\"Total Players (Unique)\": [player_num_unique]})\n",
    "player_count_df.style.set_properties(**{'text-align': 'left'})"
   ]
  },
  {
   "cell_type": "code",
   "execution_count": 3,
   "id": "317fe817",
   "metadata": {},
   "outputs": [
    {
     "name": "stdout",
     "output_type": "stream",
     "text": [
      "PURCHASING ANALYSIS (TOTAL)\n"
     ]
    },
    {
     "data": {
      "text/html": [
       "<style  type=\"text/css\" >\n",
       "#T_aff2d_row0_col0,#T_aff2d_row0_col1,#T_aff2d_row0_col2,#T_aff2d_row0_col3{\n",
       "            text-align:  left;\n",
       "        }</style><table id=\"T_aff2d_\" ><thead>    <tr>        <th class=\"blank level0\" ></th>        <th class=\"col_heading level0 col0\" >Number of Unique Items</th>        <th class=\"col_heading level0 col1\" >Average Price</th>        <th class=\"col_heading level0 col2\" >Number of Purchases</th>        <th class=\"col_heading level0 col3\" >Total Revenue</th>    </tr></thead><tbody>\n",
       "                <tr>\n",
       "                        <th id=\"T_aff2d_level0_row0\" class=\"row_heading level0 row0\" >0</th>\n",
       "                        <td id=\"T_aff2d_row0_col0\" class=\"data row0 col0\" >179</td>\n",
       "                        <td id=\"T_aff2d_row0_col1\" class=\"data row0 col1\" >$3.05</td>\n",
       "                        <td id=\"T_aff2d_row0_col2\" class=\"data row0 col2\" >780</td>\n",
       "                        <td id=\"T_aff2d_row0_col3\" class=\"data row0 col3\" >$2,379.77</td>\n",
       "            </tr>\n",
       "    </tbody></table>"
      ],
      "text/plain": [
       "<pandas.io.formats.style.Styler at 0x1a6a2062a60>"
      ]
     },
     "execution_count": 3,
     "metadata": {},
     "output_type": "execute_result"
    }
   ],
   "source": [
    "# PURCHASING ANALYSIS (TOTAL)\n",
    "print(\"PURCHASING ANALYSIS (TOTAL)\")\n",
    "\n",
    "item_unique = len(purchase_file_df[\"Item Name\"].unique())\n",
    "avg_price = purchase_file_df[\"Price\"].mean()\n",
    "purchases_num = purchase_file_df[\"Purchase ID\"].count()\n",
    "tot_revenue = purchase_file_df[\"Price\"].sum()\n",
    "\n",
    "# Add to a dataframe for better display\n",
    "purchasing_analysis_df = pd.DataFrame({\"Number of Unique Items\": [item_unique], \"Average Price\": [avg_price],\n",
    "                                       \"Number of Purchases\": [purchases_num], \"Total Revenue\": [tot_revenue]})\n",
    "\n",
    "purchasing_analysis_df[\"Average Price\"] = purchasing_analysis_df[\"Average Price\"].map(\"${:.2f}\".format)\n",
    "purchasing_analysis_df[\"Total Revenue\"] = purchasing_analysis_df[\"Total Revenue\"].map(\"${:,.2f}\".format)\n",
    "purchasing_analysis_df.style.set_properties(**{'text-align': 'left'})"
   ]
  },
  {
   "cell_type": "code",
   "execution_count": 4,
   "id": "9d92fbe4",
   "metadata": {},
   "outputs": [
    {
     "name": "stdout",
     "output_type": "stream",
     "text": [
      "GENDER DEMOGRAPHICS\n"
     ]
    },
    {
     "data": {
      "text/html": [
       "<style  type=\"text/css\" >\n",
       "#T_dae23_row0_col0,#T_dae23_row0_col1,#T_dae23_row1_col0,#T_dae23_row1_col1,#T_dae23_row2_col0,#T_dae23_row2_col1{\n",
       "            text-align:  left;\n",
       "        }</style><table id=\"T_dae23_\" ><thead>    <tr>        <th class=\"blank level0\" ></th>        <th class=\"col_heading level0 col0\" >Total Count</th>        <th class=\"col_heading level0 col1\" >Percentage</th>    </tr></thead><tbody>\n",
       "                <tr>\n",
       "                        <th id=\"T_dae23_level0_row0\" class=\"row_heading level0 row0\" >Male</th>\n",
       "                        <td id=\"T_dae23_row0_col0\" class=\"data row0 col0\" >484</td>\n",
       "                        <td id=\"T_dae23_row0_col1\" class=\"data row0 col1\" >84.03%</td>\n",
       "            </tr>\n",
       "            <tr>\n",
       "                        <th id=\"T_dae23_level0_row1\" class=\"row_heading level0 row1\" >Female</th>\n",
       "                        <td id=\"T_dae23_row1_col0\" class=\"data row1 col0\" >81</td>\n",
       "                        <td id=\"T_dae23_row1_col1\" class=\"data row1 col1\" >14.06%</td>\n",
       "            </tr>\n",
       "            <tr>\n",
       "                        <th id=\"T_dae23_level0_row2\" class=\"row_heading level0 row2\" >Other / Non-Disclosed</th>\n",
       "                        <td id=\"T_dae23_row2_col0\" class=\"data row2 col0\" >11</td>\n",
       "                        <td id=\"T_dae23_row2_col1\" class=\"data row2 col1\" >1.91%</td>\n",
       "            </tr>\n",
       "    </tbody></table>"
      ],
      "text/plain": [
       "<pandas.io.formats.style.Styler at 0x1a6a52c2dc0>"
      ]
     },
     "execution_count": 4,
     "metadata": {},
     "output_type": "execute_result"
    }
   ],
   "source": [
    "# GENDER DEMOGRAPHICS\n",
    "print(\"GENDER DEMOGRAPHICS\")\n",
    "\n",
    "#Create new dataframe with distinct Screen Names for demographics\n",
    "gender_distinct_df = purchase_file_df[[\"Gender\",\"SN\"]].drop_duplicates()\n",
    "\n",
    "distinct_tot = gender_distinct_df[\"SN\"].count()\n",
    "gender_counts = gender_distinct_df[\"Gender\"].value_counts()\n",
    "gender_pcts = (gender_distinct_df[\"Gender\"].value_counts() / distinct_tot) *100\n",
    "\n",
    "# Add to a dataframe for better display\n",
    "gender_demo_df = pd.DataFrame({\"Total Count\": gender_counts, \"Percentage\": gender_pcts})\n",
    "\n",
    "# Format and get outout\n",
    "gender_demo_df[\"Percentage\"] = gender_demo_df[\"Percentage\"].map(\"{:.2f}%\".format)\n",
    "gender_demo_df.style.set_properties(**{'text-align': 'left'})"
   ]
  },
  {
   "cell_type": "code",
   "execution_count": 5,
   "id": "db17bc7d",
   "metadata": {},
   "outputs": [
    {
     "name": "stdout",
     "output_type": "stream",
     "text": [
      "PURCHASING ANALYSIS (GENDER)\n"
     ]
    },
    {
     "data": {
      "text/html": [
       "<style  type=\"text/css\" >\n",
       "#T_fd6a3_row0_col0,#T_fd6a3_row0_col1,#T_fd6a3_row0_col2,#T_fd6a3_row0_col3,#T_fd6a3_row1_col0,#T_fd6a3_row1_col1,#T_fd6a3_row1_col2,#T_fd6a3_row1_col3,#T_fd6a3_row2_col0,#T_fd6a3_row2_col1,#T_fd6a3_row2_col2,#T_fd6a3_row2_col3{\n",
       "            text-align:  left;\n",
       "        }</style><table id=\"T_fd6a3_\" ><thead>    <tr>        <th class=\"blank level0\" ></th>        <th class=\"col_heading level0 col0\" >Purchase Count</th>        <th class=\"col_heading level0 col1\" >Average Purchase Price</th>        <th class=\"col_heading level0 col2\" >Total Purchase Price</th>        <th class=\"col_heading level0 col3\" >Avg Total Purchase Price</th>    </tr>    <tr>        <th class=\"index_name level0\" >Gender</th>        <th class=\"blank\" ></th>        <th class=\"blank\" ></th>        <th class=\"blank\" ></th>        <th class=\"blank\" ></th>    </tr></thead><tbody>\n",
       "                <tr>\n",
       "                        <th id=\"T_fd6a3_level0_row0\" class=\"row_heading level0 row0\" >Female</th>\n",
       "                        <td id=\"T_fd6a3_row0_col0\" class=\"data row0 col0\" >113</td>\n",
       "                        <td id=\"T_fd6a3_row0_col1\" class=\"data row0 col1\" >$3.20</td>\n",
       "                        <td id=\"T_fd6a3_row0_col2\" class=\"data row0 col2\" >$361.94</td>\n",
       "                        <td id=\"T_fd6a3_row0_col3\" class=\"data row0 col3\" >$4.47</td>\n",
       "            </tr>\n",
       "            <tr>\n",
       "                        <th id=\"T_fd6a3_level0_row1\" class=\"row_heading level0 row1\" >Male</th>\n",
       "                        <td id=\"T_fd6a3_row1_col0\" class=\"data row1 col0\" >652</td>\n",
       "                        <td id=\"T_fd6a3_row1_col1\" class=\"data row1 col1\" >$3.02</td>\n",
       "                        <td id=\"T_fd6a3_row1_col2\" class=\"data row1 col2\" >$1,967.64</td>\n",
       "                        <td id=\"T_fd6a3_row1_col3\" class=\"data row1 col3\" >$4.07</td>\n",
       "            </tr>\n",
       "            <tr>\n",
       "                        <th id=\"T_fd6a3_level0_row2\" class=\"row_heading level0 row2\" >Other / Non-Disclosed</th>\n",
       "                        <td id=\"T_fd6a3_row2_col0\" class=\"data row2 col0\" >15</td>\n",
       "                        <td id=\"T_fd6a3_row2_col1\" class=\"data row2 col1\" >$3.35</td>\n",
       "                        <td id=\"T_fd6a3_row2_col2\" class=\"data row2 col2\" >$50.19</td>\n",
       "                        <td id=\"T_fd6a3_row2_col3\" class=\"data row2 col3\" >$4.56</td>\n",
       "            </tr>\n",
       "    </tbody></table>"
      ],
      "text/plain": [
       "<pandas.io.formats.style.Styler at 0x1a6a204e5e0>"
      ]
     },
     "execution_count": 5,
     "metadata": {},
     "output_type": "execute_result"
    }
   ],
   "source": [
    "# PURCHASING ANALYSIS (GENDER)\n",
    "print(\"PURCHASING ANALYSIS (GENDER)\")\n",
    "\n",
    "purchases_df = purchase_file_df[[\"Gender\",\"Price\"]]\n",
    "purchases_df.head()\n",
    "\n",
    "purchases_group = purchases_df.groupby([\"Gender\"]).count()\n",
    "purchases_group.columns = [\"Purchase Count\"]\n",
    "purchases_group[\"Average Purchase Price\"] = purchases_df.groupby([\"Gender\"]).mean()\n",
    "purchases_group[\"Total Purchase Price\"] = purchases_df.groupby([\"Gender\"]).sum()\n",
    "purchases_group[\"Avg Total Purchase Price\"] = purchases_group[\"Total Purchase Price\"] / gender_counts\n",
    "\n",
    "# Format and get outout\n",
    "purchases_group[\"Average Purchase Price\"] = purchases_group[\"Average Purchase Price\"].map(\"${:,.2f}\".format)\n",
    "purchases_group[\"Total Purchase Price\"] = purchases_group[\"Total Purchase Price\"].map(\"${:,.2f}\".format)\n",
    "purchases_group[\"Avg Total Purchase Price\"] = purchases_group[\"Avg Total Purchase Price\"].map(\"${:,.2f}\".format)\n",
    "purchases_group.head().style.set_properties(**{'text-align': 'left'})"
   ]
  },
  {
   "cell_type": "code",
   "execution_count": 6,
   "id": "104c4961",
   "metadata": {},
   "outputs": [
    {
     "name": "stdout",
     "output_type": "stream",
     "text": [
      "AGE DEMOGRAPHICS\n"
     ]
    },
    {
     "data": {
      "text/html": [
       "<style  type=\"text/css\" >\n",
       "#T_28d95_row0_col0,#T_28d95_row0_col1,#T_28d95_row1_col0,#T_28d95_row1_col1,#T_28d95_row2_col0,#T_28d95_row2_col1,#T_28d95_row3_col0,#T_28d95_row3_col1,#T_28d95_row4_col0,#T_28d95_row4_col1,#T_28d95_row5_col0,#T_28d95_row5_col1,#T_28d95_row6_col0,#T_28d95_row6_col1,#T_28d95_row7_col0,#T_28d95_row7_col1{\n",
       "            text-align:  left;\n",
       "        }</style><table id=\"T_28d95_\" ><thead>    <tr>        <th class=\"blank level0\" ></th>        <th class=\"col_heading level0 col0\" >Total Count</th>        <th class=\"col_heading level0 col1\" >Percentage of Players</th>    </tr>    <tr>        <th class=\"index_name level0\" >Age Group</th>        <th class=\"blank\" ></th>        <th class=\"blank\" ></th>    </tr></thead><tbody>\n",
       "                <tr>\n",
       "                        <th id=\"T_28d95_level0_row0\" class=\"row_heading level0 row0\" ><10</th>\n",
       "                        <td id=\"T_28d95_row0_col0\" class=\"data row0 col0\" >17</td>\n",
       "                        <td id=\"T_28d95_row0_col1\" class=\"data row0 col1\" >2.95%</td>\n",
       "            </tr>\n",
       "            <tr>\n",
       "                        <th id=\"T_28d95_level0_row1\" class=\"row_heading level0 row1\" >10-14</th>\n",
       "                        <td id=\"T_28d95_row1_col0\" class=\"data row1 col0\" >22</td>\n",
       "                        <td id=\"T_28d95_row1_col1\" class=\"data row1 col1\" >3.82%</td>\n",
       "            </tr>\n",
       "            <tr>\n",
       "                        <th id=\"T_28d95_level0_row2\" class=\"row_heading level0 row2\" >15-19</th>\n",
       "                        <td id=\"T_28d95_row2_col0\" class=\"data row2 col0\" >107</td>\n",
       "                        <td id=\"T_28d95_row2_col1\" class=\"data row2 col1\" >18.58%</td>\n",
       "            </tr>\n",
       "            <tr>\n",
       "                        <th id=\"T_28d95_level0_row3\" class=\"row_heading level0 row3\" >20-24</th>\n",
       "                        <td id=\"T_28d95_row3_col0\" class=\"data row3 col0\" >258</td>\n",
       "                        <td id=\"T_28d95_row3_col1\" class=\"data row3 col1\" >44.79%</td>\n",
       "            </tr>\n",
       "            <tr>\n",
       "                        <th id=\"T_28d95_level0_row4\" class=\"row_heading level0 row4\" >25-29</th>\n",
       "                        <td id=\"T_28d95_row4_col0\" class=\"data row4 col0\" >77</td>\n",
       "                        <td id=\"T_28d95_row4_col1\" class=\"data row4 col1\" >13.37%</td>\n",
       "            </tr>\n",
       "            <tr>\n",
       "                        <th id=\"T_28d95_level0_row5\" class=\"row_heading level0 row5\" >30-34</th>\n",
       "                        <td id=\"T_28d95_row5_col0\" class=\"data row5 col0\" >52</td>\n",
       "                        <td id=\"T_28d95_row5_col1\" class=\"data row5 col1\" >9.03%</td>\n",
       "            </tr>\n",
       "            <tr>\n",
       "                        <th id=\"T_28d95_level0_row6\" class=\"row_heading level0 row6\" >35-39</th>\n",
       "                        <td id=\"T_28d95_row6_col0\" class=\"data row6 col0\" >31</td>\n",
       "                        <td id=\"T_28d95_row6_col1\" class=\"data row6 col1\" >5.38%</td>\n",
       "            </tr>\n",
       "            <tr>\n",
       "                        <th id=\"T_28d95_level0_row7\" class=\"row_heading level0 row7\" >40+</th>\n",
       "                        <td id=\"T_28d95_row7_col0\" class=\"data row7 col0\" >12</td>\n",
       "                        <td id=\"T_28d95_row7_col1\" class=\"data row7 col1\" >2.08%</td>\n",
       "            </tr>\n",
       "    </tbody></table>"
      ],
      "text/plain": [
       "<pandas.io.formats.style.Styler at 0x1a6a205a430>"
      ]
     },
     "execution_count": 6,
     "metadata": {},
     "output_type": "execute_result"
    }
   ],
   "source": [
    "# AGE DEMOGRAPHICS\n",
    "print(\"AGE DEMOGRAPHICS\")\n",
    "\n",
    "age_demo_df = purchase_file_df[[\"SN\",\"Age\"]].drop_duplicates()\n",
    "del age_demo_df[\"SN\"]\n",
    "\n",
    "age_bins = [0,9,14,19,24,29,34,39,999]\n",
    "age_groups =[\"<10\",\"10-14\",\"15-19\",\"20-24\",\"25-29\",\"30-34\",\"35-39\",\"40+\"]\n",
    "age_demo_df[\"Age Group\"] = pd.cut(age_demo_df[\"Age\"], age_bins, labels=age_groups, include_lowest=True)\n",
    "\n",
    "age_group = age_demo_df.groupby(\"Age Group\").count()\n",
    "age_group.columns = [\"Total Count\"]\n",
    "age_group[\"Percentage of Players\"] = (age_group[\"Total Count\"] / player_num_unique) *100\n",
    "\n",
    "# Format and get outout\n",
    "age_group[\"Percentage of Players\"] = age_group[\"Percentage of Players\"].map(\"{:.2f}%\".format)\n",
    "age_group.style.set_properties(**{'text-align': 'left'})"
   ]
  },
  {
   "cell_type": "code",
   "execution_count": 7,
   "id": "48fcac46",
   "metadata": {
    "scrolled": true
   },
   "outputs": [
    {
     "name": "stdout",
     "output_type": "stream",
     "text": [
      "PURCHASING ANALYSIS (AGE)\n"
     ]
    },
    {
     "data": {
      "text/html": [
       "<div>\n",
       "<style scoped>\n",
       "    .dataframe tbody tr th:only-of-type {\n",
       "        vertical-align: middle;\n",
       "    }\n",
       "\n",
       "    .dataframe tbody tr th {\n",
       "        vertical-align: top;\n",
       "    }\n",
       "\n",
       "    .dataframe thead th {\n",
       "        text-align: right;\n",
       "    }\n",
       "</style>\n",
       "<table border=\"1\" class=\"dataframe\">\n",
       "  <thead>\n",
       "    <tr style=\"text-align: right;\">\n",
       "      <th></th>\n",
       "      <th>Purchase Count</th>\n",
       "      <th>Average Purchase Price</th>\n",
       "      <th>Total Purchase Value</th>\n",
       "      <th>Avg Total Purchase Price</th>\n",
       "    </tr>\n",
       "    <tr>\n",
       "      <th>Age Ranges</th>\n",
       "      <th></th>\n",
       "      <th></th>\n",
       "      <th></th>\n",
       "      <th></th>\n",
       "    </tr>\n",
       "  </thead>\n",
       "  <tbody>\n",
       "    <tr>\n",
       "      <th>&lt;10</th>\n",
       "      <td>23</td>\n",
       "      <td>$3.35</td>\n",
       "      <td>$77.13</td>\n",
       "      <td>$4.54</td>\n",
       "    </tr>\n",
       "    <tr>\n",
       "      <th>10-14</th>\n",
       "      <td>28</td>\n",
       "      <td>$2.96</td>\n",
       "      <td>$82.78</td>\n",
       "      <td>$3.76</td>\n",
       "    </tr>\n",
       "    <tr>\n",
       "      <th>15-19</th>\n",
       "      <td>136</td>\n",
       "      <td>$3.04</td>\n",
       "      <td>$412.89</td>\n",
       "      <td>$3.86</td>\n",
       "    </tr>\n",
       "    <tr>\n",
       "      <th>20-24</th>\n",
       "      <td>365</td>\n",
       "      <td>$3.05</td>\n",
       "      <td>$1,114.06</td>\n",
       "      <td>$4.32</td>\n",
       "    </tr>\n",
       "    <tr>\n",
       "      <th>25-29</th>\n",
       "      <td>101</td>\n",
       "      <td>$2.90</td>\n",
       "      <td>$293.00</td>\n",
       "      <td>$3.81</td>\n",
       "    </tr>\n",
       "    <tr>\n",
       "      <th>30-34</th>\n",
       "      <td>73</td>\n",
       "      <td>$2.93</td>\n",
       "      <td>$214.00</td>\n",
       "      <td>$4.12</td>\n",
       "    </tr>\n",
       "    <tr>\n",
       "      <th>35-39</th>\n",
       "      <td>41</td>\n",
       "      <td>$3.60</td>\n",
       "      <td>$147.67</td>\n",
       "      <td>$4.76</td>\n",
       "    </tr>\n",
       "    <tr>\n",
       "      <th>40+</th>\n",
       "      <td>13</td>\n",
       "      <td>$2.94</td>\n",
       "      <td>$38.24</td>\n",
       "      <td>$3.19</td>\n",
       "    </tr>\n",
       "  </tbody>\n",
       "</table>\n",
       "</div>"
      ],
      "text/plain": [
       "            Purchase Count Average Purchase Price Total Purchase Value  \\\n",
       "Age Ranges                                                               \n",
       "<10                     23                  $3.35               $77.13   \n",
       "10-14                   28                  $2.96               $82.78   \n",
       "15-19                  136                  $3.04              $412.89   \n",
       "20-24                  365                  $3.05            $1,114.06   \n",
       "25-29                  101                  $2.90              $293.00   \n",
       "30-34                   73                  $2.93              $214.00   \n",
       "35-39                   41                  $3.60              $147.67   \n",
       "40+                     13                  $2.94               $38.24   \n",
       "\n",
       "           Avg Total Purchase Price  \n",
       "Age Ranges                           \n",
       "<10                           $4.54  \n",
       "10-14                         $3.76  \n",
       "15-19                         $3.86  \n",
       "20-24                         $4.32  \n",
       "25-29                         $3.81  \n",
       "30-34                         $4.12  \n",
       "35-39                         $4.76  \n",
       "40+                           $3.19  "
      ]
     },
     "execution_count": 7,
     "metadata": {},
     "output_type": "execute_result"
    }
   ],
   "source": [
    "# PURCHASING ANALYSIS (AGE)\n",
    "print(\"PURCHASING ANALYSIS (AGE)\")\n",
    "\n",
    "# Add bins to the original purchase_file data frame\n",
    "purchase_file_df[\"Age Ranges\"] = pd.cut(purchase_file_df[\"Age\"], age_bins, labels=age_groups, include_lowest=True)\n",
    "purchase_file_df.head()\n",
    "\n",
    "sn_distinct_df = purchase_file_df[[\"Age Ranges\",\"SN\"]].drop_duplicates()\n",
    "sn_distinct_df.head()\n",
    "\n",
    "sn_distinct_counts = sn_distinct_df.groupby([\"Age Ranges\"]).count()\n",
    "sn_distinct_counts\n",
    "\n",
    "age_purchases_df = purchase_file_df[[\"Age Ranges\",\"Price\"]]\n",
    "age_purchases_df.head()\n",
    "\n",
    "age_purchases_group = age_purchases_df.groupby([\"Age Ranges\"]).count()\n",
    "age_purchases_group.columns = [\"Purchase Count\"]\n",
    "\n",
    "age_purchases_group[\"Average Purchase Price\"] = age_purchases_df.groupby([\"Age Ranges\"]).mean()\n",
    "age_purchases_group[\"Total Purchase Value\"] = age_purchases_group[\"Purchase Count\"] * age_purchases_group[\"Average Purchase Price\"]\n",
    "# Temporarily bring-in the count of distinct screen names for calculation\n",
    "age_purchases_group[\"Distinct SN Count\"] = sn_distinct_counts\n",
    "age_purchases_group[\"Avg Total Purchase Price\"] = age_purchases_group[\"Total Purchase Value\"] / age_purchases_group[\"Distinct SN Count\"]\n",
    "# drop the count of distinct screen names since it is no longer needed\n",
    "del age_purchases_group[\"Distinct SN Count\"]\n",
    "\n",
    "# Format and get outout\n",
    "age_purchases_group[\"Average Purchase Price\"] = age_purchases_group[\"Average Purchase Price\"].map(\"${:,.2f}\".format)\n",
    "age_purchases_group[\"Total Purchase Value\"] = age_purchases_group[\"Total Purchase Value\"].map(\"${:,.2f}\".format)\n",
    "age_purchases_group[\"Avg Total Purchase Price\"] = age_purchases_group[\"Avg Total Purchase Price\"].map(\"${:,.2f}\".format)\n",
    "age_purchases_group"
   ]
  },
  {
   "cell_type": "code",
   "execution_count": 8,
   "id": "1543f3e1",
   "metadata": {},
   "outputs": [
    {
     "name": "stdout",
     "output_type": "stream",
     "text": [
      "TOP SPENDERS\n"
     ]
    },
    {
     "data": {
      "text/html": [
       "<style  type=\"text/css\" >\n",
       "#T_437b1_row0_col0,#T_437b1_row0_col1,#T_437b1_row0_col2,#T_437b1_row1_col0,#T_437b1_row1_col1,#T_437b1_row1_col2,#T_437b1_row2_col0,#T_437b1_row2_col1,#T_437b1_row2_col2,#T_437b1_row3_col0,#T_437b1_row3_col1,#T_437b1_row3_col2,#T_437b1_row4_col0,#T_437b1_row4_col1,#T_437b1_row4_col2{\n",
       "            text-align:  left;\n",
       "        }</style><table id=\"T_437b1_\" ><thead>    <tr>        <th class=\"blank level0\" ></th>        <th class=\"col_heading level0 col0\" >Purchase Count</th>        <th class=\"col_heading level0 col1\" >Average Purchase Price</th>        <th class=\"col_heading level0 col2\" >Total Purchase Value</th>    </tr>    <tr>        <th class=\"index_name level0\" >SN</th>        <th class=\"blank\" ></th>        <th class=\"blank\" ></th>        <th class=\"blank\" ></th>    </tr></thead><tbody>\n",
       "                <tr>\n",
       "                        <th id=\"T_437b1_level0_row0\" class=\"row_heading level0 row0\" >Lisosia93</th>\n",
       "                        <td id=\"T_437b1_row0_col0\" class=\"data row0 col0\" >5</td>\n",
       "                        <td id=\"T_437b1_row0_col1\" class=\"data row0 col1\" >$3.79</td>\n",
       "                        <td id=\"T_437b1_row0_col2\" class=\"data row0 col2\" >$18.96</td>\n",
       "            </tr>\n",
       "            <tr>\n",
       "                        <th id=\"T_437b1_level0_row1\" class=\"row_heading level0 row1\" >Idastidru52</th>\n",
       "                        <td id=\"T_437b1_row1_col0\" class=\"data row1 col0\" >4</td>\n",
       "                        <td id=\"T_437b1_row1_col1\" class=\"data row1 col1\" >$3.86</td>\n",
       "                        <td id=\"T_437b1_row1_col2\" class=\"data row1 col2\" >$15.45</td>\n",
       "            </tr>\n",
       "            <tr>\n",
       "                        <th id=\"T_437b1_level0_row2\" class=\"row_heading level0 row2\" >Chamjask73</th>\n",
       "                        <td id=\"T_437b1_row2_col0\" class=\"data row2 col0\" >3</td>\n",
       "                        <td id=\"T_437b1_row2_col1\" class=\"data row2 col1\" >$4.61</td>\n",
       "                        <td id=\"T_437b1_row2_col2\" class=\"data row2 col2\" >$13.83</td>\n",
       "            </tr>\n",
       "            <tr>\n",
       "                        <th id=\"T_437b1_level0_row3\" class=\"row_heading level0 row3\" >Iral74</th>\n",
       "                        <td id=\"T_437b1_row3_col0\" class=\"data row3 col0\" >4</td>\n",
       "                        <td id=\"T_437b1_row3_col1\" class=\"data row3 col1\" >$3.40</td>\n",
       "                        <td id=\"T_437b1_row3_col2\" class=\"data row3 col2\" >$13.62</td>\n",
       "            </tr>\n",
       "            <tr>\n",
       "                        <th id=\"T_437b1_level0_row4\" class=\"row_heading level0 row4\" >Iskadarya95</th>\n",
       "                        <td id=\"T_437b1_row4_col0\" class=\"data row4 col0\" >3</td>\n",
       "                        <td id=\"T_437b1_row4_col1\" class=\"data row4 col1\" >$4.37</td>\n",
       "                        <td id=\"T_437b1_row4_col2\" class=\"data row4 col2\" >$13.10</td>\n",
       "            </tr>\n",
       "    </tbody></table>"
      ],
      "text/plain": [
       "<pandas.io.formats.style.Styler at 0x1a6a5337f70>"
      ]
     },
     "execution_count": 8,
     "metadata": {},
     "output_type": "execute_result"
    }
   ],
   "source": [
    "# TOP SPENDERS\n",
    "print(\"TOP SPENDERS\")\n",
    "\n",
    "spenders_df = purchase_file_df[[\"SN\", \"Price\"]]\n",
    "spenders_df.head()\n",
    "\n",
    "spenders_group = spenders_df.groupby([\"SN\"]).count()\n",
    "spenders_group.columns = [\"Purchase Count\"]\n",
    "spenders_group[\"Average Purchase Price\"] = spenders_df.groupby([\"SN\"]).mean()\n",
    "spenders_group[\"Total Purchase Value\"] = spenders_group[\"Purchase Count\"] * spenders_group[\"Average Purchase Price\"]\n",
    "spenders_group = spenders_group.sort_values(\"Total Purchase Value\", ascending=False)\n",
    "spenders_group[\"Average Purchase Price\"] = spenders_group[\"Average Purchase Price\"].map(\"${:,.2f}\".format)\n",
    "spenders_group[\"Total Purchase Value\"] = spenders_group[\"Total Purchase Value\"].map(\"${:,.2f}\".format)\n",
    "\n",
    "# Format and get outout\n",
    "spenders_group.head(5).style.set_properties(**{'text-align': 'left'})"
   ]
  },
  {
   "cell_type": "code",
   "execution_count": 9,
   "id": "22ba90eb",
   "metadata": {},
   "outputs": [
    {
     "name": "stdout",
     "output_type": "stream",
     "text": [
      "MOST POPULAR ITEMS\n"
     ]
    },
    {
     "data": {
      "text/html": [
       "<style  type=\"text/css\" >\n",
       "#T_cd23b_row0_col0,#T_cd23b_row0_col1,#T_cd23b_row0_col2,#T_cd23b_row1_col0,#T_cd23b_row1_col1,#T_cd23b_row1_col2,#T_cd23b_row2_col0,#T_cd23b_row2_col1,#T_cd23b_row2_col2,#T_cd23b_row3_col0,#T_cd23b_row3_col1,#T_cd23b_row3_col2,#T_cd23b_row4_col0,#T_cd23b_row4_col1,#T_cd23b_row4_col2{\n",
       "            text-align:  left;\n",
       "        }</style><table id=\"T_cd23b_\" ><thead>    <tr>        <th class=\"blank\" ></th>        <th class=\"blank level0\" ></th>        <th class=\"col_heading level0 col0\" >Purchase Count</th>        <th class=\"col_heading level0 col1\" >Item Price</th>        <th class=\"col_heading level0 col2\" >Total Purchase Value</th>    </tr>    <tr>        <th class=\"index_name level0\" >Item ID</th>        <th class=\"index_name level1\" >Item Name</th>        <th class=\"blank\" ></th>        <th class=\"blank\" ></th>        <th class=\"blank\" ></th>    </tr></thead><tbody>\n",
       "                <tr>\n",
       "                        <th id=\"T_cd23b_level0_row0\" class=\"row_heading level0 row0\" >92</th>\n",
       "                        <th id=\"T_cd23b_level1_row0\" class=\"row_heading level1 row0\" >Final Critic</th>\n",
       "                        <td id=\"T_cd23b_row0_col0\" class=\"data row0 col0\" >13</td>\n",
       "                        <td id=\"T_cd23b_row0_col1\" class=\"data row0 col1\" >$4.61</td>\n",
       "                        <td id=\"T_cd23b_row0_col2\" class=\"data row0 col2\" >$59.99</td>\n",
       "            </tr>\n",
       "            <tr>\n",
       "                        <th id=\"T_cd23b_level0_row1\" class=\"row_heading level0 row1\" >178</th>\n",
       "                        <th id=\"T_cd23b_level1_row1\" class=\"row_heading level1 row1\" >Oathbreaker, Last Hope of the Breaking Storm</th>\n",
       "                        <td id=\"T_cd23b_row1_col0\" class=\"data row1 col0\" >12</td>\n",
       "                        <td id=\"T_cd23b_row1_col1\" class=\"data row1 col1\" >$4.23</td>\n",
       "                        <td id=\"T_cd23b_row1_col2\" class=\"data row1 col2\" >$50.76</td>\n",
       "            </tr>\n",
       "            <tr>\n",
       "                        <th id=\"T_cd23b_level0_row2\" class=\"row_heading level0 row2\" >145</th>\n",
       "                        <th id=\"T_cd23b_level1_row2\" class=\"row_heading level1 row2\" >Fiery Glass Crusader</th>\n",
       "                        <td id=\"T_cd23b_row2_col0\" class=\"data row2 col0\" >9</td>\n",
       "                        <td id=\"T_cd23b_row2_col1\" class=\"data row2 col1\" >$4.58</td>\n",
       "                        <td id=\"T_cd23b_row2_col2\" class=\"data row2 col2\" >$41.22</td>\n",
       "            </tr>\n",
       "            <tr>\n",
       "                        <th id=\"T_cd23b_level0_row3\" class=\"row_heading level0 row3\" >132</th>\n",
       "                        <th id=\"T_cd23b_level1_row3\" class=\"row_heading level1 row3\" >Persuasion</th>\n",
       "                        <td id=\"T_cd23b_row3_col0\" class=\"data row3 col0\" >9</td>\n",
       "                        <td id=\"T_cd23b_row3_col1\" class=\"data row3 col1\" >$3.22</td>\n",
       "                        <td id=\"T_cd23b_row3_col2\" class=\"data row3 col2\" >$28.99</td>\n",
       "            </tr>\n",
       "            <tr>\n",
       "                        <th id=\"T_cd23b_level0_row4\" class=\"row_heading level0 row4\" >108</th>\n",
       "                        <th id=\"T_cd23b_level1_row4\" class=\"row_heading level1 row4\" >Extraction, Quickblade Of Trembling Hands</th>\n",
       "                        <td id=\"T_cd23b_row4_col0\" class=\"data row4 col0\" >9</td>\n",
       "                        <td id=\"T_cd23b_row4_col1\" class=\"data row4 col1\" >$3.53</td>\n",
       "                        <td id=\"T_cd23b_row4_col2\" class=\"data row4 col2\" >$31.77</td>\n",
       "            </tr>\n",
       "    </tbody></table>"
      ],
      "text/plain": [
       "<pandas.io.formats.style.Styler at 0x1a6a52c2460>"
      ]
     },
     "execution_count": 9,
     "metadata": {},
     "output_type": "execute_result"
    }
   ],
   "source": [
    "# MOST POPULAR ITEMS\n",
    "print(\"MOST POPULAR ITEMS\")\n",
    "\n",
    "item_df = purchase_file_df[[\"Item ID\", \"Item Name\", \"Price\"]]\n",
    "item_df.head()\n",
    "\n",
    "item_group = item_df.groupby([\"Item ID\",\"Item Name\"]).count()\n",
    "item_group.columns = [\"Purchase Count\"]\n",
    "item_group[\"Item Price\"] = item_df.groupby([\"Item ID\",\"Item Name\"]).mean()\n",
    "item_group[\"Total Purchase Value\"] = item_group[\"Purchase Count\"] * item_group[\"Item Price\"]\n",
    "\n",
    "# Create a new formatted group to preserve original group & Format and get outout\n",
    "item_group_fmt = item_group\n",
    "item_group_fmt = item_group_fmt.sort_values(\"Purchase Count\", ascending=False)\n",
    "item_group_fmt[\"Item Price\"] = item_group_fmt[\"Item Price\"].map(\"${:,.2f}\".format)\n",
    "item_group_fmt[\"Total Purchase Value\"] = item_group_fmt[\"Total Purchase Value\"].map(\"${:,.2f}\".format)\n",
    "item_group_fmt.head(5).style.set_properties(**{'text-align': 'left'})"
   ]
  },
  {
   "cell_type": "code",
   "execution_count": 10,
   "id": "de9cd115",
   "metadata": {},
   "outputs": [
    {
     "name": "stdout",
     "output_type": "stream",
     "text": [
      "MOST PROFITABLE ITEMS\n"
     ]
    },
    {
     "data": {
      "text/html": [
       "<style  type=\"text/css\" >\n",
       "#T_074e5_row0_col0,#T_074e5_row0_col1,#T_074e5_row0_col2,#T_074e5_row1_col0,#T_074e5_row1_col1,#T_074e5_row1_col2,#T_074e5_row2_col0,#T_074e5_row2_col1,#T_074e5_row2_col2,#T_074e5_row3_col0,#T_074e5_row3_col1,#T_074e5_row3_col2,#T_074e5_row4_col0,#T_074e5_row4_col1,#T_074e5_row4_col2{\n",
       "            text-align:  left;\n",
       "        }</style><table id=\"T_074e5_\" ><thead>    <tr>        <th class=\"blank\" ></th>        <th class=\"blank level0\" ></th>        <th class=\"col_heading level0 col0\" >Purchase Count</th>        <th class=\"col_heading level0 col1\" >Item Price</th>        <th class=\"col_heading level0 col2\" >Total Purchase Value</th>    </tr>    <tr>        <th class=\"index_name level0\" >Item ID</th>        <th class=\"index_name level1\" >Item Name</th>        <th class=\"blank\" ></th>        <th class=\"blank\" ></th>        <th class=\"blank\" ></th>    </tr></thead><tbody>\n",
       "                <tr>\n",
       "                        <th id=\"T_074e5_level0_row0\" class=\"row_heading level0 row0\" >92</th>\n",
       "                        <th id=\"T_074e5_level1_row0\" class=\"row_heading level1 row0\" >Final Critic</th>\n",
       "                        <td id=\"T_074e5_row0_col0\" class=\"data row0 col0\" >13</td>\n",
       "                        <td id=\"T_074e5_row0_col1\" class=\"data row0 col1\" >$4.61</td>\n",
       "                        <td id=\"T_074e5_row0_col2\" class=\"data row0 col2\" >$59.99</td>\n",
       "            </tr>\n",
       "            <tr>\n",
       "                        <th id=\"T_074e5_level0_row1\" class=\"row_heading level0 row1\" >178</th>\n",
       "                        <th id=\"T_074e5_level1_row1\" class=\"row_heading level1 row1\" >Oathbreaker, Last Hope of the Breaking Storm</th>\n",
       "                        <td id=\"T_074e5_row1_col0\" class=\"data row1 col0\" >12</td>\n",
       "                        <td id=\"T_074e5_row1_col1\" class=\"data row1 col1\" >$4.23</td>\n",
       "                        <td id=\"T_074e5_row1_col2\" class=\"data row1 col2\" >$50.76</td>\n",
       "            </tr>\n",
       "            <tr>\n",
       "                        <th id=\"T_074e5_level0_row2\" class=\"row_heading level0 row2\" >82</th>\n",
       "                        <th id=\"T_074e5_level1_row2\" class=\"row_heading level1 row2\" >Nirvana</th>\n",
       "                        <td id=\"T_074e5_row2_col0\" class=\"data row2 col0\" >9</td>\n",
       "                        <td id=\"T_074e5_row2_col1\" class=\"data row2 col1\" >$4.90</td>\n",
       "                        <td id=\"T_074e5_row2_col2\" class=\"data row2 col2\" >$44.10</td>\n",
       "            </tr>\n",
       "            <tr>\n",
       "                        <th id=\"T_074e5_level0_row3\" class=\"row_heading level0 row3\" >145</th>\n",
       "                        <th id=\"T_074e5_level1_row3\" class=\"row_heading level1 row3\" >Fiery Glass Crusader</th>\n",
       "                        <td id=\"T_074e5_row3_col0\" class=\"data row3 col0\" >9</td>\n",
       "                        <td id=\"T_074e5_row3_col1\" class=\"data row3 col1\" >$4.58</td>\n",
       "                        <td id=\"T_074e5_row3_col2\" class=\"data row3 col2\" >$41.22</td>\n",
       "            </tr>\n",
       "            <tr>\n",
       "                        <th id=\"T_074e5_level0_row4\" class=\"row_heading level0 row4\" >108</th>\n",
       "                        <th id=\"T_074e5_level1_row4\" class=\"row_heading level1 row4\" >Extraction, Quickblade Of Trembling Hands</th>\n",
       "                        <td id=\"T_074e5_row4_col0\" class=\"data row4 col0\" >9</td>\n",
       "                        <td id=\"T_074e5_row4_col1\" class=\"data row4 col1\" >$3.53</td>\n",
       "                        <td id=\"T_074e5_row4_col2\" class=\"data row4 col2\" >$31.77</td>\n",
       "            </tr>\n",
       "    </tbody></table>"
      ],
      "text/plain": [
       "<pandas.io.formats.style.Styler at 0x1a6a534ebb0>"
      ]
     },
     "execution_count": 10,
     "metadata": {},
     "output_type": "execute_result"
    }
   ],
   "source": [
    "print(\"MOST PROFITABLE ITEMS\")\n",
    "\n",
    "# Sort above group by Total Purchase Value\n",
    "item_group = item_group.sort_values(\"Total Purchase Value\", ascending=False)\n",
    "\n",
    "# Create a new formatted group to preserve original group & Format and get outout\n",
    "item_group_fmt = item_group\n",
    "item_group_fmt = item_group_fmt.sort_values(\"Purchase Count\", ascending=False)\n",
    "item_group_fmt[\"Item Price\"] = item_group_fmt[\"Item Price\"].map(\"${:,.2f}\".format)\n",
    "item_group_fmt[\"Total Purchase Value\"] = item_group_fmt[\"Total Purchase Value\"].map(\"${:,.2f}\".format)\n",
    "item_group_fmt.head(5).style.set_properties(**{'text-align': 'left'})"
   ]
  },
  {
   "cell_type": "code",
   "execution_count": null,
   "id": "f56593fd",
   "metadata": {},
   "outputs": [],
   "source": []
  }
 ],
 "metadata": {
  "kernelspec": {
   "display_name": "Python 3",
   "language": "python",
   "name": "python3"
  },
  "language_info": {
   "codemirror_mode": {
    "name": "ipython",
    "version": 3
   },
   "file_extension": ".py",
   "mimetype": "text/x-python",
   "name": "python",
   "nbconvert_exporter": "python",
   "pygments_lexer": "ipython3",
   "version": "3.8.8"
  }
 },
 "nbformat": 4,
 "nbformat_minor": 5
}
