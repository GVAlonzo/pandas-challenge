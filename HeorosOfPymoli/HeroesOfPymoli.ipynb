{
 "cells": [
  {
   "cell_type": "code",
   "execution_count": 186,
   "id": "806c8844",
   "metadata": {},
   "outputs": [],
   "source": [
    "#*****************************************************************************\n",
    "#**\n",
    "#**  Pandas Homework: Pandas, Pandas, Pandas\n",
    "#**\n",
    "#**   Heroes of Pymoli\n",
    "#**\n",
    "#**     Author: George Alonzo\n",
    "#**   Due Date: Sept 25, 2021\n",
    "#**\n",
    "#*****************************************************************************\n",
    "\n",
    "import pandas as pd\n",
    "import numpy as np\n",
    "\n",
    "purchase_file = \"Resources/purchase_data.csv\"\n",
    "\n",
    "purchase_file_df = pd.read_csv(purchase_file)\n",
    "#purchase_file_df[\"Price\"] = purchase_file_df[\"Price\"].map(\"${:.2f}\".format)\n",
    "#purchase_file_df.head()"
   ]
  },
  {
   "cell_type": "code",
   "execution_count": 184,
   "id": "0285b6fd",
   "metadata": {},
   "outputs": [
    {
     "name": "stdout",
     "output_type": "stream",
     "text": [
      "*** THIS IS OK *** PLAYER COUNT\n"
     ]
    },
    {
     "data": {
      "text/html": [
       "<style  type=\"text/css\" >\n",
       "#T_ed766_row0_col0{\n",
       "            text-align:  left;\n",
       "        }</style><table id=\"T_ed766_\" ><thead>    <tr>        <th class=\"blank level0\" ></th>        <th class=\"col_heading level0 col0\" >Total Players (Unique)</th>    </tr></thead><tbody>\n",
       "                <tr>\n",
       "                        <th id=\"T_ed766_level0_row0\" class=\"row_heading level0 row0\" >0</th>\n",
       "                        <td id=\"T_ed766_row0_col0\" class=\"data row0 col0\" >576</td>\n",
       "            </tr>\n",
       "    </tbody></table>"
      ],
      "text/plain": [
       "<pandas.io.formats.style.Styler at 0x11dcec27520>"
      ]
     },
     "execution_count": 184,
     "metadata": {},
     "output_type": "execute_result"
    }
   ],
   "source": [
    "# PLAYER COUNT\n",
    "print(\"*** THIS IS OK *** PLAYER COUNT\")\n",
    "\n",
    "player_num = purchase_file_df[\"SN\"].count()\n",
    "player_num_unique = len(purchase_file_df[\"SN\"].unique())\n",
    "\n",
    "player_count_df = pd.DataFrame({\"Total Players (Unique)\": [player_num_unique]})\n",
    "player_count_df.style.set_properties(**{'text-align': 'left'})"
   ]
  },
  {
   "cell_type": "code",
   "execution_count": 180,
   "id": "317fe817",
   "metadata": {},
   "outputs": [
    {
     "name": "stdout",
     "output_type": "stream",
     "text": [
      "*** THIS IS OK *** PURCHASING ANALYSIS (TOTAL)\n"
     ]
    },
    {
     "data": {
      "text/html": [
       "<style  type=\"text/css\" >\n",
       "#T_d2ef1_row0_col0,#T_d2ef1_row0_col1,#T_d2ef1_row0_col2,#T_d2ef1_row0_col3{\n",
       "            text-align:  left;\n",
       "        }</style><table id=\"T_d2ef1_\" ><thead>    <tr>        <th class=\"blank level0\" ></th>        <th class=\"col_heading level0 col0\" >Number of Unique Items</th>        <th class=\"col_heading level0 col1\" >Average Price</th>        <th class=\"col_heading level0 col2\" >Number of Purchases</th>        <th class=\"col_heading level0 col3\" >Total Revenue</th>    </tr></thead><tbody>\n",
       "                <tr>\n",
       "                        <th id=\"T_d2ef1_level0_row0\" class=\"row_heading level0 row0\" >0</th>\n",
       "                        <td id=\"T_d2ef1_row0_col0\" class=\"data row0 col0\" >179</td>\n",
       "                        <td id=\"T_d2ef1_row0_col1\" class=\"data row0 col1\" >$3.05</td>\n",
       "                        <td id=\"T_d2ef1_row0_col2\" class=\"data row0 col2\" >780</td>\n",
       "                        <td id=\"T_d2ef1_row0_col3\" class=\"data row0 col3\" >$2,379.77</td>\n",
       "            </tr>\n",
       "    </tbody></table>"
      ],
      "text/plain": [
       "<pandas.io.formats.style.Styler at 0x11dcec382e0>"
      ]
     },
     "execution_count": 180,
     "metadata": {},
     "output_type": "execute_result"
    }
   ],
   "source": [
    "# PURCHASING ANALYSIS (TOTAL)\n",
    "print(\"*** THIS IS OK *** PURCHASING ANALYSIS (TOTAL)\")\n",
    "\n",
    "item_unique = len(purchase_file_df[\"Item Name\"].unique())\n",
    "avg_price = purchase_file_df[\"Price\"].mean()\n",
    "purchases_num = purchase_file_df[\"Purchase ID\"].count()\n",
    "tot_revenue = purchase_file_df[\"Price\"].sum()\n",
    "\n",
    "purchasing_analysis_df = pd.DataFrame({\"Number of Unique Items\": [item_unique], \"Average Price\": [avg_price],\n",
    "                                       \"Number of Purchases\": [purchases_num], \"Total Revenue\": [tot_revenue]})\n",
    "purchasing_analysis_df[\"Average Price\"] = purchasing_analysis_df[\"Average Price\"].map(\"${:.2f}\".format)\n",
    "purchasing_analysis_df[\"Total Revenue\"] = purchasing_analysis_df[\"Total Revenue\"].map(\"${:,.2f}\".format)\n",
    "\n",
    "purchasing_analysis_df.style.set_properties(**{'text-align': 'left'})"
   ]
  },
  {
   "cell_type": "code",
   "execution_count": 179,
   "id": "9d92fbe4",
   "metadata": {},
   "outputs": [
    {
     "name": "stdout",
     "output_type": "stream",
     "text": [
      "*** THIS IS OK *** GENDER DEMOGRAPHICS\n"
     ]
    },
    {
     "data": {
      "text/html": [
       "<div>\n",
       "<style scoped>\n",
       "    .dataframe tbody tr th:only-of-type {\n",
       "        vertical-align: middle;\n",
       "    }\n",
       "\n",
       "    .dataframe tbody tr th {\n",
       "        vertical-align: top;\n",
       "    }\n",
       "\n",
       "    .dataframe thead th {\n",
       "        text-align: right;\n",
       "    }\n",
       "</style>\n",
       "<table border=\"1\" class=\"dataframe\">\n",
       "  <thead>\n",
       "    <tr style=\"text-align: right;\">\n",
       "      <th></th>\n",
       "      <th>Total Count</th>\n",
       "      <th>Percentage</th>\n",
       "    </tr>\n",
       "  </thead>\n",
       "  <tbody>\n",
       "    <tr>\n",
       "      <th>Male</th>\n",
       "      <td>484</td>\n",
       "      <td>84.03%</td>\n",
       "    </tr>\n",
       "    <tr>\n",
       "      <th>Female</th>\n",
       "      <td>81</td>\n",
       "      <td>14.06%</td>\n",
       "    </tr>\n",
       "    <tr>\n",
       "      <th>Other / Non-Disclosed</th>\n",
       "      <td>11</td>\n",
       "      <td>1.91%</td>\n",
       "    </tr>\n",
       "  </tbody>\n",
       "</table>\n",
       "</div>"
      ],
      "text/plain": [
       "                       Total Count Percentage\n",
       "Male                           484     84.03%\n",
       "Female                          81     14.06%\n",
       "Other / Non-Disclosed           11      1.91%"
      ]
     },
     "execution_count": 179,
     "metadata": {},
     "output_type": "execute_result"
    }
   ],
   "source": [
    "# GENDER DEMOGRAPHICS\n",
    "print(\"*** THIS IS OK *** GENDER DEMOGRAPHICS\")\n",
    "\n",
    "#Create new DF with distinct Screen Names for demographics\n",
    "gender_distinct_df = purchase_file_df[[\"Gender\",\"SN\"]].drop_duplicates()\n",
    "\n",
    "\n",
    "distinct_tot = gender_distinct_df[\"SN\"].count()\n",
    "gender_counts = gender_distinct_df[\"Gender\"].value_counts()\n",
    "gender_pcts = (gender_distinct_df[\"Gender\"].value_counts() / distinct_tot) *100\n",
    "gender_demo_df = pd.DataFrame({\"Total Count\": gender_counts, \"Percentage\": gender_pcts})\n",
    "gender_demo_df[\"Percentage\"] = gender_demo_df[\"Percentage\"].map(\"{:.2f}%\".format)\n",
    "gender_demo_df.style.set_properties(**{'text-align': 'left'})"
   ]
  },
  {
   "cell_type": "code",
   "execution_count": 177,
   "id": "db17bc7d",
   "metadata": {},
   "outputs": [
    {
     "name": "stdout",
     "output_type": "stream",
     "text": [
      "*** THIS IS OK *** PURCHASING ANALYSIS (GENDER)\n"
     ]
    },
    {
     "data": {
      "text/html": [
       "<style  type=\"text/css\" >\n",
       "#T_867c7_row0_col0,#T_867c7_row0_col1,#T_867c7_row0_col2,#T_867c7_row0_col3,#T_867c7_row1_col0,#T_867c7_row1_col1,#T_867c7_row1_col2,#T_867c7_row1_col3,#T_867c7_row2_col0,#T_867c7_row2_col1,#T_867c7_row2_col2,#T_867c7_row2_col3{\n",
       "            text-align:  left;\n",
       "        }</style><table id=\"T_867c7_\" ><thead>    <tr>        <th class=\"blank level0\" ></th>        <th class=\"col_heading level0 col0\" >Purchase Count</th>        <th class=\"col_heading level0 col1\" >Average Purchase Price</th>        <th class=\"col_heading level0 col2\" >Total Purchase Price</th>        <th class=\"col_heading level0 col3\" >Avg Total Purchase Price</th>    </tr>    <tr>        <th class=\"index_name level0\" >Gender</th>        <th class=\"blank\" ></th>        <th class=\"blank\" ></th>        <th class=\"blank\" ></th>        <th class=\"blank\" ></th>    </tr></thead><tbody>\n",
       "                <tr>\n",
       "                        <th id=\"T_867c7_level0_row0\" class=\"row_heading level0 row0\" >Female</th>\n",
       "                        <td id=\"T_867c7_row0_col0\" class=\"data row0 col0\" >113</td>\n",
       "                        <td id=\"T_867c7_row0_col1\" class=\"data row0 col1\" >$3.20</td>\n",
       "                        <td id=\"T_867c7_row0_col2\" class=\"data row0 col2\" >$361.94</td>\n",
       "                        <td id=\"T_867c7_row0_col3\" class=\"data row0 col3\" >$4.47</td>\n",
       "            </tr>\n",
       "            <tr>\n",
       "                        <th id=\"T_867c7_level0_row1\" class=\"row_heading level0 row1\" >Male</th>\n",
       "                        <td id=\"T_867c7_row1_col0\" class=\"data row1 col0\" >652</td>\n",
       "                        <td id=\"T_867c7_row1_col1\" class=\"data row1 col1\" >$3.02</td>\n",
       "                        <td id=\"T_867c7_row1_col2\" class=\"data row1 col2\" >$1,967.64</td>\n",
       "                        <td id=\"T_867c7_row1_col3\" class=\"data row1 col3\" >$4.07</td>\n",
       "            </tr>\n",
       "            <tr>\n",
       "                        <th id=\"T_867c7_level0_row2\" class=\"row_heading level0 row2\" >Other / Non-Disclosed</th>\n",
       "                        <td id=\"T_867c7_row2_col0\" class=\"data row2 col0\" >15</td>\n",
       "                        <td id=\"T_867c7_row2_col1\" class=\"data row2 col1\" >$3.35</td>\n",
       "                        <td id=\"T_867c7_row2_col2\" class=\"data row2 col2\" >$50.19</td>\n",
       "                        <td id=\"T_867c7_row2_col3\" class=\"data row2 col3\" >$4.56</td>\n",
       "            </tr>\n",
       "    </tbody></table>"
      ],
      "text/plain": [
       "<pandas.io.formats.style.Styler at 0x11dcd5e4e80>"
      ]
     },
     "execution_count": 177,
     "metadata": {},
     "output_type": "execute_result"
    }
   ],
   "source": [
    "# PURCHASING ANALYSIS (GENDER)\n",
    "print(\"*** THIS IS OK *** PURCHASING ANALYSIS (GENDER)\")\n",
    "\n",
    "purchases_df = purchase_file_df[[\"Gender\",\"Price\"]]\n",
    "purchases_df.head()\n",
    "\n",
    "purchases_group = purchases_df.groupby([\"Gender\"]).count()\n",
    "purchases_group.columns = [\"Purchase Count\"]\n",
    "purchases_group[\"Average Purchase Price\"] = purchases_df.groupby([\"Gender\"]).mean()\n",
    "purchases_group[\"Total Purchase Price\"] = purchases_df.groupby([\"Gender\"]).sum()\n",
    "purchases_group[\"Avg Total Purchase Price\"] = purchases_group[\"Total Purchase Price\"] / gender_counts\n",
    "\n",
    "purchases_group[\"Average Purchase Price\"] = purchases_group[\"Average Purchase Price\"].map(\"${:,.2f}\".format)\n",
    "purchases_group[\"Total Purchase Price\"] = purchases_group[\"Total Purchase Price\"].map(\"${:,.2f}\".format)\n",
    "purchases_group[\"Avg Total Purchase Price\"] = purchases_group[\"Avg Total Purchase Price\"].map(\"${:,.2f}\".format)\n",
    "purchases_group.head().style.set_properties(**{'text-align': 'left'})"
   ]
  },
  {
   "cell_type": "code",
   "execution_count": 176,
   "id": "104c4961",
   "metadata": {},
   "outputs": [
    {
     "name": "stdout",
     "output_type": "stream",
     "text": [
      "*** THIS IS OK *** AGE DEMOGRAPHICS\n"
     ]
    },
    {
     "data": {
      "text/html": [
       "<style  type=\"text/css\" >\n",
       "#T_43647_row0_col0,#T_43647_row0_col1,#T_43647_row1_col0,#T_43647_row1_col1,#T_43647_row2_col0,#T_43647_row2_col1,#T_43647_row3_col0,#T_43647_row3_col1,#T_43647_row4_col0,#T_43647_row4_col1,#T_43647_row5_col0,#T_43647_row5_col1,#T_43647_row6_col0,#T_43647_row6_col1,#T_43647_row7_col0,#T_43647_row7_col1{\n",
       "            text-align:  left;\n",
       "        }</style><table id=\"T_43647_\" ><thead>    <tr>        <th class=\"blank level0\" ></th>        <th class=\"col_heading level0 col0\" >Total Count</th>        <th class=\"col_heading level0 col1\" >Percentage of Players</th>    </tr>    <tr>        <th class=\"index_name level0\" >Age Group</th>        <th class=\"blank\" ></th>        <th class=\"blank\" ></th>    </tr></thead><tbody>\n",
       "                <tr>\n",
       "                        <th id=\"T_43647_level0_row0\" class=\"row_heading level0 row0\" ><10</th>\n",
       "                        <td id=\"T_43647_row0_col0\" class=\"data row0 col0\" >17</td>\n",
       "                        <td id=\"T_43647_row0_col1\" class=\"data row0 col1\" >2.95%</td>\n",
       "            </tr>\n",
       "            <tr>\n",
       "                        <th id=\"T_43647_level0_row1\" class=\"row_heading level0 row1\" >10-14</th>\n",
       "                        <td id=\"T_43647_row1_col0\" class=\"data row1 col0\" >22</td>\n",
       "                        <td id=\"T_43647_row1_col1\" class=\"data row1 col1\" >3.82%</td>\n",
       "            </tr>\n",
       "            <tr>\n",
       "                        <th id=\"T_43647_level0_row2\" class=\"row_heading level0 row2\" >15-19</th>\n",
       "                        <td id=\"T_43647_row2_col0\" class=\"data row2 col0\" >107</td>\n",
       "                        <td id=\"T_43647_row2_col1\" class=\"data row2 col1\" >18.58%</td>\n",
       "            </tr>\n",
       "            <tr>\n",
       "                        <th id=\"T_43647_level0_row3\" class=\"row_heading level0 row3\" >20-24</th>\n",
       "                        <td id=\"T_43647_row3_col0\" class=\"data row3 col0\" >258</td>\n",
       "                        <td id=\"T_43647_row3_col1\" class=\"data row3 col1\" >44.79%</td>\n",
       "            </tr>\n",
       "            <tr>\n",
       "                        <th id=\"T_43647_level0_row4\" class=\"row_heading level0 row4\" >25-29</th>\n",
       "                        <td id=\"T_43647_row4_col0\" class=\"data row4 col0\" >77</td>\n",
       "                        <td id=\"T_43647_row4_col1\" class=\"data row4 col1\" >13.37%</td>\n",
       "            </tr>\n",
       "            <tr>\n",
       "                        <th id=\"T_43647_level0_row5\" class=\"row_heading level0 row5\" >30-34</th>\n",
       "                        <td id=\"T_43647_row5_col0\" class=\"data row5 col0\" >52</td>\n",
       "                        <td id=\"T_43647_row5_col1\" class=\"data row5 col1\" >9.03%</td>\n",
       "            </tr>\n",
       "            <tr>\n",
       "                        <th id=\"T_43647_level0_row6\" class=\"row_heading level0 row6\" >35-39</th>\n",
       "                        <td id=\"T_43647_row6_col0\" class=\"data row6 col0\" >31</td>\n",
       "                        <td id=\"T_43647_row6_col1\" class=\"data row6 col1\" >5.38%</td>\n",
       "            </tr>\n",
       "            <tr>\n",
       "                        <th id=\"T_43647_level0_row7\" class=\"row_heading level0 row7\" >40+</th>\n",
       "                        <td id=\"T_43647_row7_col0\" class=\"data row7 col0\" >12</td>\n",
       "                        <td id=\"T_43647_row7_col1\" class=\"data row7 col1\" >2.08%</td>\n",
       "            </tr>\n",
       "    </tbody></table>"
      ],
      "text/plain": [
       "<pandas.io.formats.style.Styler at 0x11dcda21430>"
      ]
     },
     "execution_count": 176,
     "metadata": {},
     "output_type": "execute_result"
    }
   ],
   "source": [
    "# AGE DEMOGRAPHICS\n",
    "print(\"*** THIS IS OK *** AGE DEMOGRAPHICS\")\n",
    "\n",
    "age_demo_df = purchase_file_df[[\"SN\",\"Age\"]].drop_duplicates()\n",
    "del age_demo_df[\"SN\"]\n",
    "#age_demo_df.head()\n",
    "\n",
    "age_bins = [0,9,14,19,24,29,34,39,999]\n",
    "age_groups =[\"<10\",\"10-14\",\"15-19\",\"20-24\",\"25-29\",\"30-34\",\"35-39\",\"40+\"]\n",
    "age_demo_df[\"Age Group\"] = pd.cut(age_demo_df[\"Age\"], age_bins, labels=age_groups, include_lowest=True)\n",
    "#age_demo_df.head()\n",
    "\n",
    "age_group = age_demo_df.groupby(\"Age Group\").count()\n",
    "age_group.columns = [\"Total Count\"]\n",
    "age_group[\"Percentage of Players\"] = (age_group[\"Total Count\"] / player_num_unique) *100\n",
    "age_group[\"Percentage of Players\"] = age_group[\"Percentage of Players\"].map(\"{:.2f}%\".format)\n",
    "age_group.style.set_properties(**{'text-align': 'left'})\n",
    "#age_group[[\"Age Group\"]].count()\n"
   ]
  },
  {
   "cell_type": "code",
   "execution_count": 175,
   "id": "48fcac46",
   "metadata": {
    "scrolled": true
   },
   "outputs": [
    {
     "name": "stdout",
     "output_type": "stream",
     "text": [
      "PURCHASING ANALYSIS (AGE)\n"
     ]
    },
    {
     "data": {
      "text/html": [
       "<div>\n",
       "<style scoped>\n",
       "    .dataframe tbody tr th:only-of-type {\n",
       "        vertical-align: middle;\n",
       "    }\n",
       "\n",
       "    .dataframe tbody tr th {\n",
       "        vertical-align: top;\n",
       "    }\n",
       "\n",
       "    .dataframe thead th {\n",
       "        text-align: right;\n",
       "    }\n",
       "</style>\n",
       "<table border=\"1\" class=\"dataframe\">\n",
       "  <thead>\n",
       "    <tr style=\"text-align: right;\">\n",
       "      <th></th>\n",
       "      <th>Purchase ID</th>\n",
       "      <th>SN</th>\n",
       "      <th>Age</th>\n",
       "      <th>Gender</th>\n",
       "      <th>Item ID</th>\n",
       "      <th>Item Name</th>\n",
       "      <th>Price</th>\n",
       "      <th>Age Group</th>\n",
       "    </tr>\n",
       "  </thead>\n",
       "  <tbody>\n",
       "    <tr>\n",
       "      <th>0</th>\n",
       "      <td>0</td>\n",
       "      <td>Lisim78</td>\n",
       "      <td>20</td>\n",
       "      <td>Male</td>\n",
       "      <td>108</td>\n",
       "      <td>Extraction, Quickblade Of Trembling Hands</td>\n",
       "      <td>3.53</td>\n",
       "      <td>20-24</td>\n",
       "    </tr>\n",
       "    <tr>\n",
       "      <th>1</th>\n",
       "      <td>1</td>\n",
       "      <td>Lisovynya38</td>\n",
       "      <td>40</td>\n",
       "      <td>Male</td>\n",
       "      <td>143</td>\n",
       "      <td>Frenzied Scimitar</td>\n",
       "      <td>1.56</td>\n",
       "      <td>40+</td>\n",
       "    </tr>\n",
       "    <tr>\n",
       "      <th>2</th>\n",
       "      <td>2</td>\n",
       "      <td>Ithergue48</td>\n",
       "      <td>24</td>\n",
       "      <td>Male</td>\n",
       "      <td>92</td>\n",
       "      <td>Final Critic</td>\n",
       "      <td>4.88</td>\n",
       "      <td>20-24</td>\n",
       "    </tr>\n",
       "    <tr>\n",
       "      <th>3</th>\n",
       "      <td>3</td>\n",
       "      <td>Chamassasya86</td>\n",
       "      <td>24</td>\n",
       "      <td>Male</td>\n",
       "      <td>100</td>\n",
       "      <td>Blindscythe</td>\n",
       "      <td>3.27</td>\n",
       "      <td>20-24</td>\n",
       "    </tr>\n",
       "    <tr>\n",
       "      <th>4</th>\n",
       "      <td>4</td>\n",
       "      <td>Iskosia90</td>\n",
       "      <td>23</td>\n",
       "      <td>Male</td>\n",
       "      <td>131</td>\n",
       "      <td>Fury</td>\n",
       "      <td>1.44</td>\n",
       "      <td>20-24</td>\n",
       "    </tr>\n",
       "  </tbody>\n",
       "</table>\n",
       "</div>"
      ],
      "text/plain": [
       "   Purchase ID             SN  Age Gender  Item ID  \\\n",
       "0            0        Lisim78   20   Male      108   \n",
       "1            1    Lisovynya38   40   Male      143   \n",
       "2            2     Ithergue48   24   Male       92   \n",
       "3            3  Chamassasya86   24   Male      100   \n",
       "4            4      Iskosia90   23   Male      131   \n",
       "\n",
       "                                   Item Name  Price Age Group  \n",
       "0  Extraction, Quickblade Of Trembling Hands   3.53     20-24  \n",
       "1                          Frenzied Scimitar   1.56       40+  \n",
       "2                               Final Critic   4.88     20-24  \n",
       "3                                Blindscythe   3.27     20-24  \n",
       "4                                       Fury   1.44     20-24  "
      ]
     },
     "execution_count": 175,
     "metadata": {},
     "output_type": "execute_result"
    }
   ],
   "source": [
    "# PURCHASING ANALYSIS (AGE)\n",
    "print(\"PURCHASING ANALYSIS (AGE)\")\n",
    "\n",
    "#age_purchases_df = purchase_file_df[[\"Purchase ID\",\"Age\",\"Price\"]]\n",
    "#del age_purchases_df[\"SN\"]\n",
    "#age_purchases_df.head()\n",
    "\n",
    "age_purch_bins = [0,9,14,19,24,29,34,39,999]\n",
    "age_purch_groups =[\"<10\",\"10-14\",\"15-19\",\"20-24\",\"25-29\",\"30-34\",\"35-39\",\"40+\"]\n",
    "purchase_file_df[\"Age Group\"] = pd.cut(purchase_file_df[\"Age\"], age_purch_bins, labels=age_purch_groups, include_lowest=True)\n",
    "purchase_file_df.head()\n",
    "\n",
    "#age_purch_group = purchase_file_df.groupby(\"Age Group\").count()\n",
    "#age_purch_group.columns = [\"Total Count\"]\n",
    "#age_purch_group = purchase_file_df.groupby(\"Price\").mean()\n",
    "#age_purch_group.columns = [\"Average Purchase Price\"]\n",
    "#age_purch_group\n",
    "#age_purch_group.columns = [\"Total Count\"]\n",
    "#age_purch_group[\"Percentage of Players\"] = (age_purch_group[\"Total Count\"] / player_num_unique) *100\n",
    "#age_purch_group[\"Percentage of Players\"] = age_purch_group[\"Percentage of Players\"].map(\"{:.2f}%\".format)\n",
    "#age_purch_group.head()"
   ]
  },
  {
   "cell_type": "code",
   "execution_count": 185,
   "id": "1543f3e1",
   "metadata": {},
   "outputs": [
    {
     "name": "stdout",
     "output_type": "stream",
     "text": [
      "*** THIS IS OK *** TOP SPENDERS\n"
     ]
    },
    {
     "data": {
      "text/html": [
       "<style  type=\"text/css\" >\n",
       "#T_e505f_row0_col0,#T_e505f_row0_col1,#T_e505f_row0_col2,#T_e505f_row1_col0,#T_e505f_row1_col1,#T_e505f_row1_col2,#T_e505f_row2_col0,#T_e505f_row2_col1,#T_e505f_row2_col2,#T_e505f_row3_col0,#T_e505f_row3_col1,#T_e505f_row3_col2,#T_e505f_row4_col0,#T_e505f_row4_col1,#T_e505f_row4_col2{\n",
       "            text-align:  left;\n",
       "        }</style><table id=\"T_e505f_\" ><thead>    <tr>        <th class=\"blank level0\" ></th>        <th class=\"col_heading level0 col0\" >Purchase Count</th>        <th class=\"col_heading level0 col1\" >Average Purchase Price</th>        <th class=\"col_heading level0 col2\" >Total Purchase Value</th>    </tr>    <tr>        <th class=\"index_name level0\" >SN</th>        <th class=\"blank\" ></th>        <th class=\"blank\" ></th>        <th class=\"blank\" ></th>    </tr></thead><tbody>\n",
       "                <tr>\n",
       "                        <th id=\"T_e505f_level0_row0\" class=\"row_heading level0 row0\" >Lisosia93</th>\n",
       "                        <td id=\"T_e505f_row0_col0\" class=\"data row0 col0\" >5</td>\n",
       "                        <td id=\"T_e505f_row0_col1\" class=\"data row0 col1\" >$3.79</td>\n",
       "                        <td id=\"T_e505f_row0_col2\" class=\"data row0 col2\" >$18.96</td>\n",
       "            </tr>\n",
       "            <tr>\n",
       "                        <th id=\"T_e505f_level0_row1\" class=\"row_heading level0 row1\" >Idastidru52</th>\n",
       "                        <td id=\"T_e505f_row1_col0\" class=\"data row1 col0\" >4</td>\n",
       "                        <td id=\"T_e505f_row1_col1\" class=\"data row1 col1\" >$3.86</td>\n",
       "                        <td id=\"T_e505f_row1_col2\" class=\"data row1 col2\" >$15.45</td>\n",
       "            </tr>\n",
       "            <tr>\n",
       "                        <th id=\"T_e505f_level0_row2\" class=\"row_heading level0 row2\" >Chamjask73</th>\n",
       "                        <td id=\"T_e505f_row2_col0\" class=\"data row2 col0\" >3</td>\n",
       "                        <td id=\"T_e505f_row2_col1\" class=\"data row2 col1\" >$4.61</td>\n",
       "                        <td id=\"T_e505f_row2_col2\" class=\"data row2 col2\" >$13.83</td>\n",
       "            </tr>\n",
       "            <tr>\n",
       "                        <th id=\"T_e505f_level0_row3\" class=\"row_heading level0 row3\" >Iral74</th>\n",
       "                        <td id=\"T_e505f_row3_col0\" class=\"data row3 col0\" >4</td>\n",
       "                        <td id=\"T_e505f_row3_col1\" class=\"data row3 col1\" >$3.40</td>\n",
       "                        <td id=\"T_e505f_row3_col2\" class=\"data row3 col2\" >$13.62</td>\n",
       "            </tr>\n",
       "            <tr>\n",
       "                        <th id=\"T_e505f_level0_row4\" class=\"row_heading level0 row4\" >Iskadarya95</th>\n",
       "                        <td id=\"T_e505f_row4_col0\" class=\"data row4 col0\" >3</td>\n",
       "                        <td id=\"T_e505f_row4_col1\" class=\"data row4 col1\" >$4.37</td>\n",
       "                        <td id=\"T_e505f_row4_col2\" class=\"data row4 col2\" >$13.10</td>\n",
       "            </tr>\n",
       "    </tbody></table>"
      ],
      "text/plain": [
       "<pandas.io.formats.style.Styler at 0x11dcd9b8af0>"
      ]
     },
     "execution_count": 185,
     "metadata": {},
     "output_type": "execute_result"
    }
   ],
   "source": [
    "# TOP SPENDERS\n",
    "print(\"*** THIS IS OK *** TOP SPENDERS\")\n",
    "\n",
    "spenders_df = purchase_file_df[[\"SN\", \"Price\"]]\n",
    "spenders_df.head()\n",
    "\n",
    "spenders_group = spenders_df.groupby([\"SN\"]).count()\n",
    "spenders_group.columns = [\"Purchase Count\"]\n",
    "spenders_group[\"Average Purchase Price\"] = spenders_df.groupby([\"SN\"]).mean()\n",
    "spenders_group[\"Total Purchase Value\"] = spenders_group[\"Purchase Count\"] * spenders_group[\"Average Purchase Price\"]\n",
    "spenders_group = spenders_group.sort_values(\"Total Purchase Value\", ascending=False)\n",
    "spenders_group[\"Average Purchase Price\"] = spenders_group[\"Average Purchase Price\"].map(\"${:,.2f}\".format)\n",
    "spenders_group[\"Total Purchase Value\"] = spenders_group[\"Total Purchase Value\"].map(\"${:,.2f}\".format)\n",
    "\n",
    "spenders_group.head().style.set_properties(**{'text-align': 'left'})"
   ]
  },
  {
   "cell_type": "code",
   "execution_count": 161,
   "id": "22ba90eb",
   "metadata": {},
   "outputs": [
    {
     "name": "stdout",
     "output_type": "stream",
     "text": [
      "*** TRY TO LEFT-JUSTIFY ITEM NAME COLUMN *** MOST POPULAR ITEMS\n"
     ]
    },
    {
     "data": {
      "text/html": [
       "<style  type=\"text/css\" >\n",
       "#T_d13b8_row0_col0,#T_d13b8_row0_col1,#T_d13b8_row0_col2,#T_d13b8_row1_col0,#T_d13b8_row1_col1,#T_d13b8_row1_col2,#T_d13b8_row2_col0,#T_d13b8_row2_col1,#T_d13b8_row2_col2,#T_d13b8_row3_col0,#T_d13b8_row3_col1,#T_d13b8_row3_col2,#T_d13b8_row4_col0,#T_d13b8_row4_col1,#T_d13b8_row4_col2{\n",
       "            text-align:  left;\n",
       "        }</style><table id=\"T_d13b8_\" ><thead>    <tr>        <th class=\"blank\" ></th>        <th class=\"blank level0\" ></th>        <th class=\"col_heading level0 col0\" >Purchase Count</th>        <th class=\"col_heading level0 col1\" >Item Price</th>        <th class=\"col_heading level0 col2\" >Total Purchase Value</th>    </tr>    <tr>        <th class=\"index_name level0\" >Item ID</th>        <th class=\"index_name level1\" >Item Name</th>        <th class=\"blank\" ></th>        <th class=\"blank\" ></th>        <th class=\"blank\" ></th>    </tr></thead><tbody>\n",
       "                <tr>\n",
       "                        <th id=\"T_d13b8_level0_row0\" class=\"row_heading level0 row0\" >92</th>\n",
       "                        <th id=\"T_d13b8_level1_row0\" class=\"row_heading level1 row0\" >Final Critic</th>\n",
       "                        <td id=\"T_d13b8_row0_col0\" class=\"data row0 col0\" >13</td>\n",
       "                        <td id=\"T_d13b8_row0_col1\" class=\"data row0 col1\" >$4.61</td>\n",
       "                        <td id=\"T_d13b8_row0_col2\" class=\"data row0 col2\" >$59.99</td>\n",
       "            </tr>\n",
       "            <tr>\n",
       "                        <th id=\"T_d13b8_level0_row1\" class=\"row_heading level0 row1\" >178</th>\n",
       "                        <th id=\"T_d13b8_level1_row1\" class=\"row_heading level1 row1\" >Oathbreaker, Last Hope of the Breaking Storm</th>\n",
       "                        <td id=\"T_d13b8_row1_col0\" class=\"data row1 col0\" >12</td>\n",
       "                        <td id=\"T_d13b8_row1_col1\" class=\"data row1 col1\" >$4.23</td>\n",
       "                        <td id=\"T_d13b8_row1_col2\" class=\"data row1 col2\" >$50.76</td>\n",
       "            </tr>\n",
       "            <tr>\n",
       "                        <th id=\"T_d13b8_level0_row2\" class=\"row_heading level0 row2\" >145</th>\n",
       "                        <th id=\"T_d13b8_level1_row2\" class=\"row_heading level1 row2\" >Fiery Glass Crusader</th>\n",
       "                        <td id=\"T_d13b8_row2_col0\" class=\"data row2 col0\" >9</td>\n",
       "                        <td id=\"T_d13b8_row2_col1\" class=\"data row2 col1\" >$4.58</td>\n",
       "                        <td id=\"T_d13b8_row2_col2\" class=\"data row2 col2\" >$41.22</td>\n",
       "            </tr>\n",
       "            <tr>\n",
       "                        <th id=\"T_d13b8_level0_row3\" class=\"row_heading level0 row3\" >132</th>\n",
       "                        <th id=\"T_d13b8_level1_row3\" class=\"row_heading level1 row3\" >Persuasion</th>\n",
       "                        <td id=\"T_d13b8_row3_col0\" class=\"data row3 col0\" >9</td>\n",
       "                        <td id=\"T_d13b8_row3_col1\" class=\"data row3 col1\" >$3.22</td>\n",
       "                        <td id=\"T_d13b8_row3_col2\" class=\"data row3 col2\" >$28.99</td>\n",
       "            </tr>\n",
       "            <tr>\n",
       "                        <th id=\"T_d13b8_level0_row4\" class=\"row_heading level0 row4\" >108</th>\n",
       "                        <th id=\"T_d13b8_level1_row4\" class=\"row_heading level1 row4\" >Extraction, Quickblade Of Trembling Hands</th>\n",
       "                        <td id=\"T_d13b8_row4_col0\" class=\"data row4 col0\" >9</td>\n",
       "                        <td id=\"T_d13b8_row4_col1\" class=\"data row4 col1\" >$3.53</td>\n",
       "                        <td id=\"T_d13b8_row4_col2\" class=\"data row4 col2\" >$31.77</td>\n",
       "            </tr>\n",
       "    </tbody></table>"
      ],
      "text/plain": [
       "<pandas.io.formats.style.Styler at 0x11dcec63f70>"
      ]
     },
     "execution_count": 161,
     "metadata": {},
     "output_type": "execute_result"
    }
   ],
   "source": [
    "# MOST POPULAR ITEMS\n",
    "print(\"*** TRY TO LEFT-JUSTIFY ITEM NAME COLUMN *** MOST POPULAR ITEMS\")\n",
    "\n",
    "item_df = purchase_file_df[[\"Item ID\", \"Item Name\", \"Price\"]]\n",
    "item_df.head()\n",
    "\n",
    "item_group_df = item_df.groupby([\"Item ID\",\"Item Name\"]).count()\n",
    "item_group_df.columns = [\"Purchase Count\"]\n",
    "item_group_df[\"Item Price\"] = item_df.groupby([\"Item ID\",\"Item Name\"]).mean()\n",
    "\n",
    "item_group_df[\"Total Purchase Value\"] = item_group_df[\"Purchase Count\"] * item_group_df[\"Item Price\"]\n",
    "item_group_df = item_group_df.sort_values(\"Purchase Count\", ascending=False)\n",
    "item_group_df[\"Item Price\"] = item_group_df[\"Item Price\"].map(\"${:,.2f}\".format)\n",
    "item_group_df[\"Total Purchase Value\"] = item_group_df[\"Total Purchase Value\"].map(\"${:,.2f}\".format)\n",
    "item_group_df.head().style.set_properties(**{'text-align': 'left'})\n",
    "\n"
   ]
  },
  {
   "cell_type": "code",
   "execution_count": 170,
   "id": "de9cd115",
   "metadata": {},
   "outputs": [
    {
     "name": "stdout",
     "output_type": "stream",
     "text": [
      "*** OK, BUT DO I NEED ALL THE CODE? *** MOST PROFITABLE ITEMS\n"
     ]
    },
    {
     "data": {
      "text/html": [
       "<style  type=\"text/css\" >\n",
       "#T_e97bd_row0_col0,#T_e97bd_row0_col1,#T_e97bd_row0_col2,#T_e97bd_row1_col0,#T_e97bd_row1_col1,#T_e97bd_row1_col2,#T_e97bd_row2_col0,#T_e97bd_row2_col1,#T_e97bd_row2_col2,#T_e97bd_row3_col0,#T_e97bd_row3_col1,#T_e97bd_row3_col2,#T_e97bd_row4_col0,#T_e97bd_row4_col1,#T_e97bd_row4_col2{\n",
       "            text-align:  left;\n",
       "        }</style><table id=\"T_e97bd_\" ><thead>    <tr>        <th class=\"blank\" ></th>        <th class=\"blank level0\" ></th>        <th class=\"col_heading level0 col0\" >Purchase Count</th>        <th class=\"col_heading level0 col1\" >Item Price</th>        <th class=\"col_heading level0 col2\" >Total Purchase Value</th>    </tr>    <tr>        <th class=\"index_name level0\" >Item ID</th>        <th class=\"index_name level1\" >Item Name</th>        <th class=\"blank\" ></th>        <th class=\"blank\" ></th>        <th class=\"blank\" ></th>    </tr></thead><tbody>\n",
       "                <tr>\n",
       "                        <th id=\"T_e97bd_level0_row0\" class=\"row_heading level0 row0\" >92</th>\n",
       "                        <th id=\"T_e97bd_level1_row0\" class=\"row_heading level1 row0\" >Final Critic</th>\n",
       "                        <td id=\"T_e97bd_row0_col0\" class=\"data row0 col0\" >13</td>\n",
       "                        <td id=\"T_e97bd_row0_col1\" class=\"data row0 col1\" >$4.61</td>\n",
       "                        <td id=\"T_e97bd_row0_col2\" class=\"data row0 col2\" >$59.99</td>\n",
       "            </tr>\n",
       "            <tr>\n",
       "                        <th id=\"T_e97bd_level0_row1\" class=\"row_heading level0 row1\" >178</th>\n",
       "                        <th id=\"T_e97bd_level1_row1\" class=\"row_heading level1 row1\" >Oathbreaker, Last Hope of the Breaking Storm</th>\n",
       "                        <td id=\"T_e97bd_row1_col0\" class=\"data row1 col0\" >12</td>\n",
       "                        <td id=\"T_e97bd_row1_col1\" class=\"data row1 col1\" >$4.23</td>\n",
       "                        <td id=\"T_e97bd_row1_col2\" class=\"data row1 col2\" >$50.76</td>\n",
       "            </tr>\n",
       "            <tr>\n",
       "                        <th id=\"T_e97bd_level0_row2\" class=\"row_heading level0 row2\" >82</th>\n",
       "                        <th id=\"T_e97bd_level1_row2\" class=\"row_heading level1 row2\" >Nirvana</th>\n",
       "                        <td id=\"T_e97bd_row2_col0\" class=\"data row2 col0\" >9</td>\n",
       "                        <td id=\"T_e97bd_row2_col1\" class=\"data row2 col1\" >$4.90</td>\n",
       "                        <td id=\"T_e97bd_row2_col2\" class=\"data row2 col2\" >$44.10</td>\n",
       "            </tr>\n",
       "            <tr>\n",
       "                        <th id=\"T_e97bd_level0_row3\" class=\"row_heading level0 row3\" >145</th>\n",
       "                        <th id=\"T_e97bd_level1_row3\" class=\"row_heading level1 row3\" >Fiery Glass Crusader</th>\n",
       "                        <td id=\"T_e97bd_row3_col0\" class=\"data row3 col0\" >9</td>\n",
       "                        <td id=\"T_e97bd_row3_col1\" class=\"data row3 col1\" >$4.58</td>\n",
       "                        <td id=\"T_e97bd_row3_col2\" class=\"data row3 col2\" >$41.22</td>\n",
       "            </tr>\n",
       "            <tr>\n",
       "                        <th id=\"T_e97bd_level0_row4\" class=\"row_heading level0 row4\" >103</th>\n",
       "                        <th id=\"T_e97bd_level1_row4\" class=\"row_heading level1 row4\" >Singed Scalpel</th>\n",
       "                        <td id=\"T_e97bd_row4_col0\" class=\"data row4 col0\" >8</td>\n",
       "                        <td id=\"T_e97bd_row4_col1\" class=\"data row4 col1\" >$4.35</td>\n",
       "                        <td id=\"T_e97bd_row4_col2\" class=\"data row4 col2\" >$34.80</td>\n",
       "            </tr>\n",
       "    </tbody></table>"
      ],
      "text/plain": [
       "<pandas.io.formats.style.Styler at 0x11dceb12b50>"
      ]
     },
     "execution_count": 170,
     "metadata": {},
     "output_type": "execute_result"
    }
   ],
   "source": [
    "print(\"*** OK, BUT DO I NEED ALL THE CODE? *** MOST PROFITABLE ITEMS\")\n",
    "print(\"*** HOW TO LEFT-JUSTIFY ITEM NAME? *** MOST PROFITABLE ITEMS\")\n",
    "\n",
    "item_df = purchase_file_df[[\"Item ID\", \"Item Name\", \"Price\"]]\n",
    "item_df.head()\n",
    "\n",
    "item_group_df = item_df.groupby([\"Item ID\",\"Item Name\"]).count()\n",
    "item_group_df.columns = [\"Purchase Count\"]\n",
    "item_group_df[\"Item Price\"] = item_df.groupby([\"Item ID\",\"Item Name\"]).mean()\n",
    "\n",
    "item_group_df[\"Total Purchase Value\"] = item_group_df[\"Purchase Count\"] * item_group_df[\"Item Price\"]\n",
    "item_group_df = item_group_df.sort_values(\"Total Purchase Value\", ascending=False)\n",
    "item_group_df[\"Item Price\"] = item_group_df[\"Item Price\"].map(\"${:,.2f}\".format)\n",
    "item_group_df[\"Total Purchase Value\"] = item_group_df[\"Total Purchase Value\"].map(\"${:,.2f}\".format)\n",
    "item_group_df.head().style.set_properties(**{'text-align': 'left'})\n"
   ]
  },
  {
   "cell_type": "code",
   "execution_count": null,
   "id": "d094ee2a",
   "metadata": {},
   "outputs": [],
   "source": []
  }
 ],
 "metadata": {
  "kernelspec": {
   "display_name": "Python 3",
   "language": "python",
   "name": "python3"
  },
  "language_info": {
   "codemirror_mode": {
    "name": "ipython",
    "version": 3
   },
   "file_extension": ".py",
   "mimetype": "text/x-python",
   "name": "python",
   "nbconvert_exporter": "python",
   "pygments_lexer": "ipython3",
   "version": "3.8.8"
  }
 },
 "nbformat": 4,
 "nbformat_minor": 5
}
